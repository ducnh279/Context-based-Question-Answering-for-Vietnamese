{
 "cells": [
  {
   "cell_type": "markdown",
   "id": "65826daa",
   "metadata": {
    "papermill": {
     "duration": 0.004503,
     "end_time": "2023-04-15T08:34:09.028690",
     "exception": false,
     "start_time": "2023-04-15T08:34:09.024187",
     "status": "completed"
    },
    "tags": []
   },
   "source": [
    "1. xsquad: https://raw.githubusercontent.com/deepmind/xquad/master/xquad.vi.json\n",
    "2. bert-vietnamese-question-answering: https://raw.githubusercontent.com/mailong25/bert-vietnamese-question-answering/master/dataset/train-v2.0.json\n",
    "3. from Zalo 2022: https://www.kaggle.com/datasets/ducnh279/nlp-data"
   ]
  },
  {
   "cell_type": "markdown",
   "id": "fbf346bf",
   "metadata": {
    "papermill": {
     "duration": 0.003309,
     "end_time": "2023-04-15T08:34:09.035710",
     "exception": false,
     "start_time": "2023-04-15T08:34:09.032401",
     "status": "completed"
    },
    "tags": []
   },
   "source": [
    "# Zalo"
   ]
  },
  {
   "cell_type": "code",
   "execution_count": 1,
   "id": "15ec1953",
   "metadata": {
    "execution": {
     "iopub.execute_input": "2023-04-15T08:34:09.044756Z",
     "iopub.status.busy": "2023-04-15T08:34:09.044245Z",
     "iopub.status.idle": "2023-04-15T08:34:09.132398Z",
     "shell.execute_reply": "2023-04-15T08:34:09.131260Z"
    },
    "papermill": {
     "duration": 0.096113,
     "end_time": "2023-04-15T08:34:09.135235",
     "exception": false,
     "start_time": "2023-04-15T08:34:09.039122",
     "status": "completed"
    },
    "tags": []
   },
   "outputs": [],
   "source": [
    "import pandas as pd\n",
    "from tqdm.notebook import tqdm"
   ]
  },
  {
   "cell_type": "code",
   "execution_count": 2,
   "id": "d701f23a",
   "metadata": {
    "execution": {
     "iopub.execute_input": "2023-04-15T08:34:09.144796Z",
     "iopub.status.busy": "2023-04-15T08:34:09.143794Z",
     "iopub.status.idle": "2023-04-15T08:34:09.611758Z",
     "shell.execute_reply": "2023-04-15T08:34:09.610477Z"
    },
    "papermill": {
     "duration": 0.475634,
     "end_time": "2023-04-15T08:34:09.614578",
     "exception": false,
     "start_time": "2023-04-15T08:34:09.138944",
     "status": "completed"
    },
    "tags": []
   },
   "outputs": [],
   "source": [
    "train_df = pd.read_json('/kaggle/input/nlp-data/zac2022_train_merged_final.json')"
   ]
  },
  {
   "cell_type": "code",
   "execution_count": 3,
   "id": "0b085de7",
   "metadata": {
    "execution": {
     "iopub.execute_input": "2023-04-15T08:34:09.623606Z",
     "iopub.status.busy": "2023-04-15T08:34:09.623251Z",
     "iopub.status.idle": "2023-04-15T08:34:09.630438Z",
     "shell.execute_reply": "2023-04-15T08:34:09.629263Z"
    },
    "papermill": {
     "duration": 0.014494,
     "end_time": "2023-04-15T08:34:09.632804",
     "exception": false,
     "start_time": "2023-04-15T08:34:09.618310",
     "status": "completed"
    },
    "tags": []
   },
   "outputs": [],
   "source": [
    "def get_keys(data):\n",
    "    return [k for k, _ in data.items()]\n",
    "\n",
    "def has_answer(df):\n",
    "    return df[df.data.apply(get_keys).apply(lambda x: 'answer' in x)]\n",
    "\n",
    "def get_context(data):\n",
    "    return data['text']\n",
    "\n",
    "def get_question(data):\n",
    "    return data['question']\n",
    "\n",
    "def get_answer_position(data):\n",
    "    return data['short_candidate_start']\n",
    "\n",
    "def get_answer(data):\n",
    "    return data['short_candidate']\n",
    "\n",
    "def question_context(df, i):\n",
    "    question = df.data.apply(get_question)[i]\n",
    "    text = test_df.context[i]\n",
    "    print(\n",
    "        f'- Question: {question}\\n'\n",
    "        f'- Context: {text}'\n",
    "    )"
   ]
  },
  {
   "cell_type": "code",
   "execution_count": 4,
   "id": "62b826a5",
   "metadata": {
    "execution": {
     "iopub.execute_input": "2023-04-15T08:34:09.641145Z",
     "iopub.status.busy": "2023-04-15T08:34:09.640865Z",
     "iopub.status.idle": "2023-04-15T08:34:09.888023Z",
     "shell.execute_reply": "2023-04-15T08:34:09.886943Z"
    },
    "papermill": {
     "duration": 0.254541,
     "end_time": "2023-04-15T08:34:09.890872",
     "exception": false,
     "start_time": "2023-04-15T08:34:09.636331",
     "status": "completed"
    },
    "tags": []
   },
   "outputs": [],
   "source": [
    "questions = has_answer(train_df).data.apply(get_question).reset_index(drop=True)\n",
    "contexts = has_answer(train_df).data.apply(get_context).reset_index(drop=True)\n",
    "answers = has_answer(train_df).data.apply(get_answer).reset_index(drop=True)\n",
    "answer_starts = has_answer(train_df).data.apply(get_answer_position).reset_index(drop=True)"
   ]
  },
  {
   "cell_type": "code",
   "execution_count": 5,
   "id": "f6176c0d",
   "metadata": {
    "execution": {
     "iopub.execute_input": "2023-04-15T08:34:09.900187Z",
     "iopub.status.busy": "2023-04-15T08:34:09.899840Z",
     "iopub.status.idle": "2023-04-15T08:34:09.905506Z",
     "shell.execute_reply": "2023-04-15T08:34:09.904474Z"
    },
    "papermill": {
     "duration": 0.01272,
     "end_time": "2023-04-15T08:34:09.907637",
     "exception": false,
     "start_time": "2023-04-15T08:34:09.894917",
     "status": "completed"
    },
    "tags": []
   },
   "outputs": [],
   "source": [
    "zalo = pd.DataFrame(\n",
    "    {\n",
    "        'question': questions,\n",
    "        'context': contexts,\n",
    "        'answer': answers,\n",
    "        'answer_start': answer_starts\n",
    "    }\n",
    ")"
   ]
  },
  {
   "cell_type": "markdown",
   "id": "1a35c151",
   "metadata": {
    "papermill": {
     "duration": 0.003346,
     "end_time": "2023-04-15T08:34:09.914689",
     "exception": false,
     "start_time": "2023-04-15T08:34:09.911343",
     "status": "completed"
    },
    "tags": []
   },
   "source": [
    "# Xsquad"
   ]
  },
  {
   "cell_type": "code",
   "execution_count": 6,
   "id": "f8e0dde0",
   "metadata": {
    "execution": {
     "iopub.execute_input": "2023-04-15T08:34:09.923319Z",
     "iopub.status.busy": "2023-04-15T08:34:09.923045Z",
     "iopub.status.idle": "2023-04-15T08:34:10.213378Z",
     "shell.execute_reply": "2023-04-15T08:34:10.212316Z"
    },
    "papermill": {
     "duration": 0.297613,
     "end_time": "2023-04-15T08:34:10.215928",
     "exception": false,
     "start_time": "2023-04-15T08:34:09.918315",
     "status": "completed"
    },
    "tags": []
   },
   "outputs": [],
   "source": [
    "df = pd.read_json('https://raw.githubusercontent.com/deepmind/xquad/master/xquad.vi.json')\n",
    "df.drop('version', axis=1, inplace=True)"
   ]
  },
  {
   "cell_type": "code",
   "execution_count": 7,
   "id": "f241fa83",
   "metadata": {
    "execution": {
     "iopub.execute_input": "2023-04-15T08:34:10.226563Z",
     "iopub.status.busy": "2023-04-15T08:34:10.224996Z",
     "iopub.status.idle": "2023-04-15T08:34:10.231066Z",
     "shell.execute_reply": "2023-04-15T08:34:10.230000Z"
    },
    "papermill": {
     "duration": 0.013218,
     "end_time": "2023-04-15T08:34:10.233085",
     "exception": false,
     "start_time": "2023-04-15T08:34:10.219867",
     "status": "completed"
    },
    "tags": []
   },
   "outputs": [],
   "source": [
    "def get_paragraph(df):\n",
    "    return df.data.apply(lambda x: x['paragraphs'])"
   ]
  },
  {
   "cell_type": "code",
   "execution_count": 8,
   "id": "c71e6c7d",
   "metadata": {
    "execution": {
     "iopub.execute_input": "2023-04-15T08:34:10.242157Z",
     "iopub.status.busy": "2023-04-15T08:34:10.241287Z",
     "iopub.status.idle": "2023-04-15T08:34:10.423797Z",
     "shell.execute_reply": "2023-04-15T08:34:10.422737Z"
    },
    "papermill": {
     "duration": 0.189936,
     "end_time": "2023-04-15T08:34:10.426601",
     "exception": false,
     "start_time": "2023-04-15T08:34:10.236665",
     "status": "completed"
    },
    "tags": []
   },
   "outputs": [],
   "source": [
    "para = get_paragraph(df)\n",
    "\n",
    "dfs = []\n",
    "for p in para:\n",
    "    p_df = pd.DataFrame(p)\n",
    "    question_df = p_df['qas'].apply(lambda x: x[0]['question']).to_frame('question')\n",
    "    start_pos_and_text_df = p_df['qas'].apply(lambda x: x[0]['answers'][0]).apply(pd.Series)\n",
    "    final_p_df = pd.concat([question_df, p_df, start_pos_and_text_df], axis=1)\n",
    "    final_p_df.drop('qas', axis=1, inplace=True)\n",
    "    final_p_df.columns = ['question', 'context', 'answer_start', 'answer']\n",
    "    dfs.append(final_p_df)"
   ]
  },
  {
   "cell_type": "code",
   "execution_count": 9,
   "id": "ab0308dc",
   "metadata": {
    "execution": {
     "iopub.execute_input": "2023-04-15T08:34:10.437353Z",
     "iopub.status.busy": "2023-04-15T08:34:10.437057Z",
     "iopub.status.idle": "2023-04-15T08:34:10.468508Z",
     "shell.execute_reply": "2023-04-15T08:34:10.466470Z"
    },
    "papermill": {
     "duration": 0.038595,
     "end_time": "2023-04-15T08:34:10.470669",
     "exception": false,
     "start_time": "2023-04-15T08:34:10.432074",
     "status": "completed"
    },
    "tags": []
   },
   "outputs": [
    {
     "data": {
      "text/html": [
       "<div>\n",
       "<style scoped>\n",
       "    .dataframe tbody tr th:only-of-type {\n",
       "        vertical-align: middle;\n",
       "    }\n",
       "\n",
       "    .dataframe tbody tr th {\n",
       "        vertical-align: top;\n",
       "    }\n",
       "\n",
       "    .dataframe thead th {\n",
       "        text-align: right;\n",
       "    }\n",
       "</style>\n",
       "<table border=\"1\" class=\"dataframe\">\n",
       "  <thead>\n",
       "    <tr style=\"text-align: right;\">\n",
       "      <th></th>\n",
       "      <th>question</th>\n",
       "      <th>context</th>\n",
       "      <th>answer_start</th>\n",
       "      <th>answer</th>\n",
       "    </tr>\n",
       "  </thead>\n",
       "  <tbody>\n",
       "    <tr>\n",
       "      <th>0</th>\n",
       "      <td>Đội thủ Panthers đã thua bao nhiêu điểm?</td>\n",
       "      <td>Đội thủ của Panthers chỉ thua 308 điểm, đứng t...</td>\n",
       "      <td>30</td>\n",
       "      <td>308</td>\n",
       "    </tr>\n",
       "    <tr>\n",
       "      <th>1</th>\n",
       "      <td>Ai thua đội Broncos ở vòng bảng?</td>\n",
       "      <td>Broncos đã đánh bại Pittsburgh Steelers ở vòng...</td>\n",
       "      <td>20</td>\n",
       "      <td>Pittsburgh Steelers</td>\n",
       "    </tr>\n",
       "    <tr>\n",
       "      <th>2</th>\n",
       "      <td>Peyton Manning bao nhiêu tuổi khi anh chơi tro...</td>\n",
       "      <td>Peyton Manning trở thành thủ quân (quaterback)...</td>\n",
       "      <td>196</td>\n",
       "      <td>39</td>\n",
       "    </tr>\n",
       "    <tr>\n",
       "      <th>3</th>\n",
       "      <td>Lady Gaga đã giành được bao nhiêu giải Grammy?</td>\n",
       "      <td>Người chiến thắng giải Grammy sáu lần và người...</td>\n",
       "      <td>30</td>\n",
       "      <td>sáu</td>\n",
       "    </tr>\n",
       "    <tr>\n",
       "      <th>4</th>\n",
       "      <td>Carolina đã bắt đầu ở vạch nào khi trận đấu cò...</td>\n",
       "      <td>Khi thời gian quy định còn lại 4:51, Carolina ...</td>\n",
       "      <td>61</td>\n",
       "      <td>24</td>\n",
       "    </tr>\n",
       "    <tr>\n",
       "      <th>...</th>\n",
       "      <td>...</td>\n",
       "      <td>...</td>\n",
       "      <td>...</td>\n",
       "      <td>...</td>\n",
       "    </tr>\n",
       "    <tr>\n",
       "      <th>235</th>\n",
       "      <td>Ai đã đưa ra một cuộc thảo luận triết học về lực?</td>\n",
       "      <td>Aristotle đưa ra bản thảo luận triết học về kh...</td>\n",
       "      <td>0</td>\n",
       "      <td>Aristotle</td>\n",
       "    </tr>\n",
       "    <tr>\n",
       "      <th>236</th>\n",
       "      <td>Ai hình thành thuyết về lực vạn vật hấp dẫn?</td>\n",
       "      <td>Sự phát triển của các lý thuyết cơ bản đối với...</td>\n",
       "      <td>143</td>\n",
       "      <td>Isaac Newton</td>\n",
       "    </tr>\n",
       "    <tr>\n",
       "      <th>237</th>\n",
       "      <td>Lý thuyết nào giải thích rõ ràng nhất về trọng...</td>\n",
       "      <td>Kể từ đó đến nay, thuyết tương đối đã được côn...</td>\n",
       "      <td>18</td>\n",
       "      <td>thuyết tương đối</td>\n",
       "    </tr>\n",
       "    <tr>\n",
       "      <th>238</th>\n",
       "      <td>Tốc độ thay đổi của điện tích là gì?</td>\n",
       "      <td>Bằng việc kết hợp định nghĩa của dòng diện giố...</td>\n",
       "      <td>33</td>\n",
       "      <td>dòng diện</td>\n",
       "    </tr>\n",
       "    <tr>\n",
       "      <th>239</th>\n",
       "      <td>Điều gì gây ra biến dạng trong các cấu trúc?</td>\n",
       "      <td>Nơi mà diện tích mặt cắt ngang liên quan đến k...</td>\n",
       "      <td>361</td>\n",
       "      <td>ten-xơ ứng suất</td>\n",
       "    </tr>\n",
       "  </tbody>\n",
       "</table>\n",
       "<p>240 rows × 4 columns</p>\n",
       "</div>"
      ],
      "text/plain": [
       "                                              question  \\\n",
       "0             Đội thủ Panthers đã thua bao nhiêu điểm?   \n",
       "1                     Ai thua đội Broncos ở vòng bảng?   \n",
       "2    Peyton Manning bao nhiêu tuổi khi anh chơi tro...   \n",
       "3       Lady Gaga đã giành được bao nhiêu giải Grammy?   \n",
       "4    Carolina đã bắt đầu ở vạch nào khi trận đấu cò...   \n",
       "..                                                 ...   \n",
       "235  Ai đã đưa ra một cuộc thảo luận triết học về lực?   \n",
       "236       Ai hình thành thuyết về lực vạn vật hấp dẫn?   \n",
       "237  Lý thuyết nào giải thích rõ ràng nhất về trọng...   \n",
       "238               Tốc độ thay đổi của điện tích là gì?   \n",
       "239       Điều gì gây ra biến dạng trong các cấu trúc?   \n",
       "\n",
       "                                               context  answer_start  \\\n",
       "0    Đội thủ của Panthers chỉ thua 308 điểm, đứng t...            30   \n",
       "1    Broncos đã đánh bại Pittsburgh Steelers ở vòng...            20   \n",
       "2    Peyton Manning trở thành thủ quân (quaterback)...           196   \n",
       "3    Người chiến thắng giải Grammy sáu lần và người...            30   \n",
       "4    Khi thời gian quy định còn lại 4:51, Carolina ...            61   \n",
       "..                                                 ...           ...   \n",
       "235  Aristotle đưa ra bản thảo luận triết học về kh...             0   \n",
       "236  Sự phát triển của các lý thuyết cơ bản đối với...           143   \n",
       "237  Kể từ đó đến nay, thuyết tương đối đã được côn...            18   \n",
       "238  Bằng việc kết hợp định nghĩa của dòng diện giố...            33   \n",
       "239  Nơi mà diện tích mặt cắt ngang liên quan đến k...           361   \n",
       "\n",
       "                  answer  \n",
       "0                    308  \n",
       "1    Pittsburgh Steelers  \n",
       "2                     39  \n",
       "3                    sáu  \n",
       "4                     24  \n",
       "..                   ...  \n",
       "235            Aristotle  \n",
       "236         Isaac Newton  \n",
       "237     thuyết tương đối  \n",
       "238            dòng diện  \n",
       "239      ten-xơ ứng suất  \n",
       "\n",
       "[240 rows x 4 columns]"
      ]
     },
     "execution_count": 9,
     "metadata": {},
     "output_type": "execute_result"
    }
   ],
   "source": [
    "xsquad = pd.concat(dfs, axis=0, ignore_index=True)\n",
    "xsquad"
   ]
  },
  {
   "cell_type": "markdown",
   "id": "e595be60",
   "metadata": {
    "papermill": {
     "duration": 0.003806,
     "end_time": "2023-04-15T08:34:10.478681",
     "exception": false,
     "start_time": "2023-04-15T08:34:10.474875",
     "status": "completed"
    },
    "tags": []
   },
   "source": [
    "# Bert QA"
   ]
  },
  {
   "cell_type": "code",
   "execution_count": 10,
   "id": "e32a8306",
   "metadata": {
    "execution": {
     "iopub.execute_input": "2023-04-15T08:34:10.489254Z",
     "iopub.status.busy": "2023-04-15T08:34:10.487802Z",
     "iopub.status.idle": "2023-04-15T08:34:10.942742Z",
     "shell.execute_reply": "2023-04-15T08:34:10.941742Z"
    },
    "papermill": {
     "duration": 0.462542,
     "end_time": "2023-04-15T08:34:10.945298",
     "exception": false,
     "start_time": "2023-04-15T08:34:10.482756",
     "status": "completed"
    },
    "tags": []
   },
   "outputs": [],
   "source": [
    "df = pd.read_json('https://raw.githubusercontent.com/mailong25/bert-vietnamese-question-answering/master/dataset/train-v2.0.json')"
   ]
  },
  {
   "cell_type": "code",
   "execution_count": 11,
   "id": "ee0c9b93",
   "metadata": {
    "execution": {
     "iopub.execute_input": "2023-04-15T08:34:10.955960Z",
     "iopub.status.busy": "2023-04-15T08:34:10.955051Z",
     "iopub.status.idle": "2023-04-15T08:34:12.427546Z",
     "shell.execute_reply": "2023-04-15T08:34:12.426487Z"
    },
    "papermill": {
     "duration": 1.487637,
     "end_time": "2023-04-15T08:34:12.437395",
     "exception": false,
     "start_time": "2023-04-15T08:34:10.949758",
     "status": "completed"
    },
    "tags": []
   },
   "outputs": [
    {
     "data": {
      "application/vnd.jupyter.widget-view+json": {
       "model_id": "24c637609a0243b3a5781b57b1734ff2",
       "version_major": 2,
       "version_minor": 0
      },
      "text/plain": [
       "  0%|          | 0/450 [00:00<?, ?it/s]"
      ]
     },
     "metadata": {},
     "output_type": "display_data"
    }
   ],
   "source": [
    "para = get_paragraph(df)\n",
    "\n",
    "dfs = []\n",
    "for p in tqdm(para):\n",
    "    p_df = pd.DataFrame(p)\n",
    "    p_df = p_df[p_df.qas.apply(lambda x: x[0]['answers'] != [])].reset_index(drop=True)\n",
    "    if p_df.values.tolist() == []:\n",
    "        continue\n",
    "    question_df = p_df['qas'].apply(lambda x: x[0]['question']).to_frame('question')\n",
    "    start_pos_and_text_df = p_df['qas'].apply(lambda x: x[0]['answers'][0]).apply(pd.Series)\n",
    "    final_p_df = pd.concat([question_df, p_df, start_pos_and_text_df], axis=1)\n",
    "    final_p_df.drop('qas', axis=1, inplace=True)\n",
    "    final_p_df.columns = ['question', 'context', 'answer_start', 'answer']\n",
    "    dfs.append(final_p_df)"
   ]
  },
  {
   "cell_type": "code",
   "execution_count": 12,
   "id": "a8e5d15b",
   "metadata": {
    "execution": {
     "iopub.execute_input": "2023-04-15T08:34:12.447798Z",
     "iopub.status.busy": "2023-04-15T08:34:12.447497Z",
     "iopub.status.idle": "2023-04-15T08:34:12.532700Z",
     "shell.execute_reply": "2023-04-15T08:34:12.531747Z"
    },
    "papermill": {
     "duration": 0.093012,
     "end_time": "2023-04-15T08:34:12.535082",
     "exception": false,
     "start_time": "2023-04-15T08:34:12.442070",
     "status": "completed"
    },
    "tags": []
   },
   "outputs": [],
   "source": [
    "bert_qa = pd.concat(dfs, axis=0, ignore_index=True)"
   ]
  },
  {
   "cell_type": "markdown",
   "id": "ec1b8ef3",
   "metadata": {
    "papermill": {
     "duration": 0.004466,
     "end_time": "2023-04-15T08:34:12.544123",
     "exception": false,
     "start_time": "2023-04-15T08:34:12.539657",
     "status": "completed"
    },
    "tags": []
   },
   "source": [
    "# Merge QA datasets"
   ]
  },
  {
   "cell_type": "code",
   "execution_count": 13,
   "id": "8ea3f387",
   "metadata": {
    "execution": {
     "iopub.execute_input": "2023-04-15T08:34:12.554097Z",
     "iopub.status.busy": "2023-04-15T08:34:12.553787Z",
     "iopub.status.idle": "2023-04-15T08:34:12.562281Z",
     "shell.execute_reply": "2023-04-15T08:34:12.561391Z"
    },
    "papermill": {
     "duration": 0.016088,
     "end_time": "2023-04-15T08:34:12.564385",
     "exception": false,
     "start_time": "2023-04-15T08:34:12.548297",
     "status": "completed"
    },
    "tags": []
   },
   "outputs": [],
   "source": [
    "qa_dataset = pd.concat([zalo, xsquad, bert_qa], axis=0, ignore_index=True)"
   ]
  },
  {
   "cell_type": "code",
   "execution_count": 14,
   "id": "932da079",
   "metadata": {
    "execution": {
     "iopub.execute_input": "2023-04-15T08:34:12.574340Z",
     "iopub.status.busy": "2023-04-15T08:34:12.574068Z",
     "iopub.status.idle": "2023-04-15T08:34:12.610464Z",
     "shell.execute_reply": "2023-04-15T08:34:12.609459Z"
    },
    "papermill": {
     "duration": 0.043869,
     "end_time": "2023-04-15T08:34:12.612520",
     "exception": false,
     "start_time": "2023-04-15T08:34:12.568651",
     "status": "completed"
    },
    "tags": []
   },
   "outputs": [],
   "source": [
    "qa_dataset.to_json('qa_dataset.json')"
   ]
  },
  {
   "cell_type": "code",
   "execution_count": null,
   "id": "62d74ea9",
   "metadata": {
    "papermill": {
     "duration": 0.004777,
     "end_time": "2023-04-15T08:34:12.621767",
     "exception": false,
     "start_time": "2023-04-15T08:34:12.616990",
     "status": "completed"
    },
    "tags": []
   },
   "outputs": [],
   "source": []
  }
 ],
 "metadata": {
  "kernelspec": {
   "display_name": "Python 3 (ipykernel)",
   "language": "python",
   "name": "python3"
  },
  "language_info": {
   "codemirror_mode": {
    "name": "ipython",
    "version": 3
   },
   "file_extension": ".py",
   "mimetype": "text/x-python",
   "name": "python",
   "nbconvert_exporter": "python",
   "pygments_lexer": "ipython3",
   "version": "3.10.6"
  },
  "papermill": {
   "default_parameters": {},
   "duration": 13.789643,
   "end_time": "2023-04-15T08:34:13.147401",
   "environment_variables": {},
   "exception": null,
   "input_path": "__notebook__.ipynb",
   "output_path": "__notebook__.ipynb",
   "parameters": {},
   "start_time": "2023-04-15T08:33:59.357758",
   "version": "2.4.0"
  },
  "widgets": {
   "application/vnd.jupyter.widget-state+json": {
    "state": {
     "24c637609a0243b3a5781b57b1734ff2": {
      "model_module": "@jupyter-widgets/controls",
      "model_module_version": "1.5.0",
      "model_name": "HBoxModel",
      "state": {
       "_dom_classes": [],
       "_model_module": "@jupyter-widgets/controls",
       "_model_module_version": "1.5.0",
       "_model_name": "HBoxModel",
       "_view_count": null,
       "_view_module": "@jupyter-widgets/controls",
       "_view_module_version": "1.5.0",
       "_view_name": "HBoxView",
       "box_style": "",
       "children": [
        "IPY_MODEL_7e095dc8c61c4855898b5c1edf30e4c0",
        "IPY_MODEL_931b5e835a244affbf93da0f19453d43",
        "IPY_MODEL_e8abfd8e8e964e7bbdbf256ba8394ce0"
       ],
       "layout": "IPY_MODEL_8b982b59e79c49a1bb371d3bd807ff21"
      }
     },
     "340deb6fcbfe4eaba00c2f527d35cede": {
      "model_module": "@jupyter-widgets/base",
      "model_module_version": "1.2.0",
      "model_name": "LayoutModel",
      "state": {
       "_model_module": "@jupyter-widgets/base",
       "_model_module_version": "1.2.0",
       "_model_name": "LayoutModel",
       "_view_count": null,
       "_view_module": "@jupyter-widgets/base",
       "_view_module_version": "1.2.0",
       "_view_name": "LayoutView",
       "align_content": null,
       "align_items": null,
       "align_self": null,
       "border": null,
       "bottom": null,
       "display": null,
       "flex": null,
       "flex_flow": null,
       "grid_area": null,
       "grid_auto_columns": null,
       "grid_auto_flow": null,
       "grid_auto_rows": null,
       "grid_column": null,
       "grid_gap": null,
       "grid_row": null,
       "grid_template_areas": null,
       "grid_template_columns": null,
       "grid_template_rows": null,
       "height": null,
       "justify_content": null,
       "justify_items": null,
       "left": null,
       "margin": null,
       "max_height": null,
       "max_width": null,
       "min_height": null,
       "min_width": null,
       "object_fit": null,
       "object_position": null,
       "order": null,
       "overflow": null,
       "overflow_x": null,
       "overflow_y": null,
       "padding": null,
       "right": null,
       "top": null,
       "visibility": null,
       "width": null
      }
     },
     "7e095dc8c61c4855898b5c1edf30e4c0": {
      "model_module": "@jupyter-widgets/controls",
      "model_module_version": "1.5.0",
      "model_name": "HTMLModel",
      "state": {
       "_dom_classes": [],
       "_model_module": "@jupyter-widgets/controls",
       "_model_module_version": "1.5.0",
       "_model_name": "HTMLModel",
       "_view_count": null,
       "_view_module": "@jupyter-widgets/controls",
       "_view_module_version": "1.5.0",
       "_view_name": "HTMLView",
       "description": "",
       "description_tooltip": null,
       "layout": "IPY_MODEL_b24bdf5ebe5e499cac6ebb80d2d11194",
       "placeholder": "​",
       "style": "IPY_MODEL_b77725b8fde84a5e8552e7718daca2b8",
       "value": "100%"
      }
     },
     "8b982b59e79c49a1bb371d3bd807ff21": {
      "model_module": "@jupyter-widgets/base",
      "model_module_version": "1.2.0",
      "model_name": "LayoutModel",
      "state": {
       "_model_module": "@jupyter-widgets/base",
       "_model_module_version": "1.2.0",
       "_model_name": "LayoutModel",
       "_view_count": null,
       "_view_module": "@jupyter-widgets/base",
       "_view_module_version": "1.2.0",
       "_view_name": "LayoutView",
       "align_content": null,
       "align_items": null,
       "align_self": null,
       "border": null,
       "bottom": null,
       "display": null,
       "flex": null,
       "flex_flow": null,
       "grid_area": null,
       "grid_auto_columns": null,
       "grid_auto_flow": null,
       "grid_auto_rows": null,
       "grid_column": null,
       "grid_gap": null,
       "grid_row": null,
       "grid_template_areas": null,
       "grid_template_columns": null,
       "grid_template_rows": null,
       "height": null,
       "justify_content": null,
       "justify_items": null,
       "left": null,
       "margin": null,
       "max_height": null,
       "max_width": null,
       "min_height": null,
       "min_width": null,
       "object_fit": null,
       "object_position": null,
       "order": null,
       "overflow": null,
       "overflow_x": null,
       "overflow_y": null,
       "padding": null,
       "right": null,
       "top": null,
       "visibility": null,
       "width": null
      }
     },
     "931b5e835a244affbf93da0f19453d43": {
      "model_module": "@jupyter-widgets/controls",
      "model_module_version": "1.5.0",
      "model_name": "FloatProgressModel",
      "state": {
       "_dom_classes": [],
       "_model_module": "@jupyter-widgets/controls",
       "_model_module_version": "1.5.0",
       "_model_name": "FloatProgressModel",
       "_view_count": null,
       "_view_module": "@jupyter-widgets/controls",
       "_view_module_version": "1.5.0",
       "_view_name": "ProgressView",
       "bar_style": "success",
       "description": "",
       "description_tooltip": null,
       "layout": "IPY_MODEL_340deb6fcbfe4eaba00c2f527d35cede",
       "max": 450,
       "min": 0,
       "orientation": "horizontal",
       "style": "IPY_MODEL_baa43a335e7d4b2b895f79249ade9b1e",
       "value": 450
      }
     },
     "b24bdf5ebe5e499cac6ebb80d2d11194": {
      "model_module": "@jupyter-widgets/base",
      "model_module_version": "1.2.0",
      "model_name": "LayoutModel",
      "state": {
       "_model_module": "@jupyter-widgets/base",
       "_model_module_version": "1.2.0",
       "_model_name": "LayoutModel",
       "_view_count": null,
       "_view_module": "@jupyter-widgets/base",
       "_view_module_version": "1.2.0",
       "_view_name": "LayoutView",
       "align_content": null,
       "align_items": null,
       "align_self": null,
       "border": null,
       "bottom": null,
       "display": null,
       "flex": null,
       "flex_flow": null,
       "grid_area": null,
       "grid_auto_columns": null,
       "grid_auto_flow": null,
       "grid_auto_rows": null,
       "grid_column": null,
       "grid_gap": null,
       "grid_row": null,
       "grid_template_areas": null,
       "grid_template_columns": null,
       "grid_template_rows": null,
       "height": null,
       "justify_content": null,
       "justify_items": null,
       "left": null,
       "margin": null,
       "max_height": null,
       "max_width": null,
       "min_height": null,
       "min_width": null,
       "object_fit": null,
       "object_position": null,
       "order": null,
       "overflow": null,
       "overflow_x": null,
       "overflow_y": null,
       "padding": null,
       "right": null,
       "top": null,
       "visibility": null,
       "width": null
      }
     },
     "b77725b8fde84a5e8552e7718daca2b8": {
      "model_module": "@jupyter-widgets/controls",
      "model_module_version": "1.5.0",
      "model_name": "DescriptionStyleModel",
      "state": {
       "_model_module": "@jupyter-widgets/controls",
       "_model_module_version": "1.5.0",
       "_model_name": "DescriptionStyleModel",
       "_view_count": null,
       "_view_module": "@jupyter-widgets/base",
       "_view_module_version": "1.2.0",
       "_view_name": "StyleView",
       "description_width": ""
      }
     },
     "baa43a335e7d4b2b895f79249ade9b1e": {
      "model_module": "@jupyter-widgets/controls",
      "model_module_version": "1.5.0",
      "model_name": "ProgressStyleModel",
      "state": {
       "_model_module": "@jupyter-widgets/controls",
       "_model_module_version": "1.5.0",
       "_model_name": "ProgressStyleModel",
       "_view_count": null,
       "_view_module": "@jupyter-widgets/base",
       "_view_module_version": "1.2.0",
       "_view_name": "StyleView",
       "bar_color": null,
       "description_width": ""
      }
     },
     "cfb987c7da7148dc904782792ac627ce": {
      "model_module": "@jupyter-widgets/controls",
      "model_module_version": "1.5.0",
      "model_name": "DescriptionStyleModel",
      "state": {
       "_model_module": "@jupyter-widgets/controls",
       "_model_module_version": "1.5.0",
       "_model_name": "DescriptionStyleModel",
       "_view_count": null,
       "_view_module": "@jupyter-widgets/base",
       "_view_module_version": "1.2.0",
       "_view_name": "StyleView",
       "description_width": ""
      }
     },
     "e8abfd8e8e964e7bbdbf256ba8394ce0": {
      "model_module": "@jupyter-widgets/controls",
      "model_module_version": "1.5.0",
      "model_name": "HTMLModel",
      "state": {
       "_dom_classes": [],
       "_model_module": "@jupyter-widgets/controls",
       "_model_module_version": "1.5.0",
       "_model_name": "HTMLModel",
       "_view_count": null,
       "_view_module": "@jupyter-widgets/controls",
       "_view_module_version": "1.5.0",
       "_view_name": "HTMLView",
       "description": "",
       "description_tooltip": null,
       "layout": "IPY_MODEL_ecf7367573fe487a9a3e305dad7e6b70",
       "placeholder": "​",
       "style": "IPY_MODEL_cfb987c7da7148dc904782792ac627ce",
       "value": " 450/450 [00:01&lt;00:00, 317.27it/s]"
      }
     },
     "ecf7367573fe487a9a3e305dad7e6b70": {
      "model_module": "@jupyter-widgets/base",
      "model_module_version": "1.2.0",
      "model_name": "LayoutModel",
      "state": {
       "_model_module": "@jupyter-widgets/base",
       "_model_module_version": "1.2.0",
       "_model_name": "LayoutModel",
       "_view_count": null,
       "_view_module": "@jupyter-widgets/base",
       "_view_module_version": "1.2.0",
       "_view_name": "LayoutView",
       "align_content": null,
       "align_items": null,
       "align_self": null,
       "border": null,
       "bottom": null,
       "display": null,
       "flex": null,
       "flex_flow": null,
       "grid_area": null,
       "grid_auto_columns": null,
       "grid_auto_flow": null,
       "grid_auto_rows": null,
       "grid_column": null,
       "grid_gap": null,
       "grid_row": null,
       "grid_template_areas": null,
       "grid_template_columns": null,
       "grid_template_rows": null,
       "height": null,
       "justify_content": null,
       "justify_items": null,
       "left": null,
       "margin": null,
       "max_height": null,
       "max_width": null,
       "min_height": null,
       "min_width": null,
       "object_fit": null,
       "object_position": null,
       "order": null,
       "overflow": null,
       "overflow_x": null,
       "overflow_y": null,
       "padding": null,
       "right": null,
       "top": null,
       "visibility": null,
       "width": null
      }
     }
    },
    "version_major": 2,
    "version_minor": 0
   }
  }
 },
 "nbformat": 4,
 "nbformat_minor": 5
}
