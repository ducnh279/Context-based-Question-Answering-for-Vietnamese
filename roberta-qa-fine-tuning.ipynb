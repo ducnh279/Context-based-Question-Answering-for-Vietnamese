{
 "cells": [
  {
   "cell_type": "code",
   "execution_count": 1,
   "id": "6f7d1afd",
   "metadata": {
    "_cell_guid": "b1076dfc-b9ad-4769-8c92-a6c4dae69d19",
    "_uuid": "8f2839f25d086af736a60e9eeb907d3b93b6e0e5",
    "execution": {
     "iopub.execute_input": "2023-04-22T16:57:12.463893Z",
     "iopub.status.busy": "2023-04-22T16:57:12.462811Z",
     "iopub.status.idle": "2023-04-22T16:57:21.982686Z",
     "shell.execute_reply": "2023-04-22T16:57:21.981569Z"
    },
    "papermill": {
     "duration": 9.530665,
     "end_time": "2023-04-22T16:57:21.985509",
     "exception": false,
     "start_time": "2023-04-22T16:57:12.454844",
     "status": "completed"
    },
    "tags": []
   },
   "outputs": [],
   "source": [
    "import os\n",
    "import random\n",
    "import numpy as np\n",
    "import pandas as pd\n",
    "from tqdm.auto import tqdm\n",
    "import multiprocessing as mp\n",
    "from types import SimpleNamespace\n",
    "import torch\n",
    "import torch.nn as nn\n",
    "import torch.optim as optim\n",
    "from transformers import AutoTokenizer\n",
    "from torch.nn.parameter import Parameter\n",
    "from torch.cuda.amp import GradScaler, autocast\n",
    "from torch.utils.data import Dataset, DataLoader\n",
    "from transformers import get_cosine_schedule_with_warmup\n",
    "from transformers import AutoConfig, AutoModelForQuestionAnswering\n",
    "\n",
    "N_CORES = mp.cpu_count()\n",
    "os.environ['TOKENIZERS_PARALLELISM'] = 'false'"
   ]
  },
  {
   "cell_type": "markdown",
   "id": "988da2f7",
   "metadata": {
    "papermill": {
     "duration": 0.005136,
     "end_time": "2023-04-22T16:57:21.997417",
     "exception": false,
     "start_time": "2023-04-22T16:57:21.992281",
     "status": "completed"
    },
    "tags": []
   },
   "source": [
    "# 1. General Settings"
   ]
  },
  {
   "cell_type": "code",
   "execution_count": 2,
   "id": "9267277b",
   "metadata": {
    "execution": {
     "iopub.execute_input": "2023-04-22T16:57:22.010049Z",
     "iopub.status.busy": "2023-04-22T16:57:22.008969Z",
     "iopub.status.idle": "2023-04-22T16:57:22.015790Z",
     "shell.execute_reply": "2023-04-22T16:57:22.014858Z"
    },
    "papermill": {
     "duration": 0.015307,
     "end_time": "2023-04-22T16:57:22.017947",
     "exception": false,
     "start_time": "2023-04-22T16:57:22.002640",
     "status": "completed"
    },
    "tags": []
   },
   "outputs": [],
   "source": [
    "cfg = {\n",
    "    'root': '/kaggle/input/question-and-answering-dataset' + '/',\n",
    "    'seed': 279,\n",
    "    'batch_size': 16,\n",
    "    'epochs': 3,\n",
    "    'weight_decay': 0.001,\n",
    "    'learning_rate': 5e-5,\n",
    "    'warmup_steps': 0.0,\n",
    "    'max_length': 96,\n",
    "    'intermediate_dropout': 0.0,\n",
    "    'padding_quantile': 1.0,\n",
    "    'device': 'cuda',\n",
    "    'num_workers': N_CORES,\n",
    "    'backbone': 'xlm-roberta-base'\n",
    "}\n",
    "\n",
    "cfg = SimpleNamespace(**cfg)"
   ]
  },
  {
   "cell_type": "code",
   "execution_count": 3,
   "id": "d2f873e7",
   "metadata": {
    "execution": {
     "iopub.execute_input": "2023-04-22T16:57:22.029928Z",
     "iopub.status.busy": "2023-04-22T16:57:22.029649Z",
     "iopub.status.idle": "2023-04-22T16:57:22.040615Z",
     "shell.execute_reply": "2023-04-22T16:57:22.039474Z"
    },
    "papermill": {
     "duration": 0.019392,
     "end_time": "2023-04-22T16:57:22.042727",
     "exception": false,
     "start_time": "2023-04-22T16:57:22.023335",
     "status": "completed"
    },
    "tags": []
   },
   "outputs": [],
   "source": [
    "def set_seed(seed):\n",
    "    random.seed(seed)\n",
    "    np.random.seed(seed)\n",
    "    os.environ['PYTHONHASHSEED'] = str(seed)\n",
    "    torch.manual_seed(seed)\n",
    "    torch.cuda.manual_seed(seed)\n",
    "    torch.backends.cudnn.deterministic = True\n",
    "    torch.backends.cudnn.benchmark = True\n",
    "\n",
    "def add_end_pos(df):\n",
    "    len_answers = df.answer.apply(len)\n",
    "    df['answer_end'] = df.answer_start + len_answers\n",
    "    return df\n",
    "\n",
    "def add_token_positions(encodings, start_pos, end_pos):\n",
    "    start_positions = []\n",
    "    end_positions = []\n",
    "    for i in range(len(answers)):\n",
    "        start_positions.append(encodings.char_to_token(i, start_pos[i]))\n",
    "        end_positions.append(encodings.char_to_token(i, end_pos[i]-1)) \n",
    "        if start_positions[-1] is None:\n",
    "            start_positions[-1] = tokenizer.model_max_length \n",
    "        if end_positions[-1] is None:\n",
    "            end_positions[-1] = tokenizer.model_max_length \n",
    "    encodings.update({'start_positions': start_positions, 'end_positions': end_positions})\n",
    "\n",
    "@torch.inference_mode()\n",
    "def run_prediction(context, question):\n",
    "    inputs = tokenizer.encode_plus(\n",
    "        question, context, \n",
    "        return_tensors='pt'\n",
    "    ).to(cfg.device)\n",
    "    \n",
    "    model.eval()\n",
    "    with autocast():\n",
    "        outputs = model(**inputs)\n",
    "        \n",
    "    answer_start = torch.argmax(outputs[0])  \n",
    "    answer_end = torch.argmax(outputs[1]) + 1 \n",
    "    answer = tokenizer.convert_tokens_to_string(\n",
    "        tokenizer.convert_ids_to_tokens(\n",
    "            inputs.input_ids[0][answer_start:answer_end]\n",
    "        )\n",
    "    )\n",
    "    \n",
    "    print(\n",
    "        f'- Question: {question}\\n'\n",
    "        f'- Answer: {answer}'\n",
    "    )"
   ]
  },
  {
   "cell_type": "markdown",
   "id": "266a817b",
   "metadata": {
    "papermill": {
     "duration": 0.005199,
     "end_time": "2023-04-22T16:57:22.053271",
     "exception": false,
     "start_time": "2023-04-22T16:57:22.048072",
     "status": "completed"
    },
    "tags": []
   },
   "source": [
    "# 2. Load in dataset"
   ]
  },
  {
   "cell_type": "code",
   "execution_count": 4,
   "id": "35459d71",
   "metadata": {
    "execution": {
     "iopub.execute_input": "2023-04-22T16:57:22.067944Z",
     "iopub.status.busy": "2023-04-22T16:57:22.067658Z",
     "iopub.status.idle": "2023-04-22T16:57:22.189584Z",
     "shell.execute_reply": "2023-04-22T16:57:22.188557Z"
    },
    "papermill": {
     "duration": 0.132661,
     "end_time": "2023-04-22T16:57:22.192167",
     "exception": false,
     "start_time": "2023-04-22T16:57:22.059506",
     "status": "completed"
    },
    "tags": []
   },
   "outputs": [],
   "source": [
    "train_df = pd.read_json(cfg.root + 'qa_dataset.json')"
   ]
  },
  {
   "cell_type": "markdown",
   "id": "832f8509",
   "metadata": {
    "papermill": {
     "duration": 0.005144,
     "end_time": "2023-04-22T16:57:22.203004",
     "exception": false,
     "start_time": "2023-04-22T16:57:22.197860",
     "status": "completed"
    },
    "tags": []
   },
   "source": [
    "# 3. Add end position "
   ]
  },
  {
   "cell_type": "code",
   "execution_count": 5,
   "id": "3d3984be",
   "metadata": {
    "execution": {
     "iopub.execute_input": "2023-04-22T16:57:22.214741Z",
     "iopub.status.busy": "2023-04-22T16:57:22.214434Z",
     "iopub.status.idle": "2023-04-22T16:57:22.222670Z",
     "shell.execute_reply": "2023-04-22T16:57:22.221593Z"
    },
    "papermill": {
     "duration": 0.016699,
     "end_time": "2023-04-22T16:57:22.224860",
     "exception": false,
     "start_time": "2023-04-22T16:57:22.208161",
     "status": "completed"
    },
    "tags": []
   },
   "outputs": [],
   "source": [
    "train_df = add_end_pos(train_df)"
   ]
  },
  {
   "cell_type": "markdown",
   "id": "ace15dfd",
   "metadata": {
    "papermill": {
     "duration": 0.005019,
     "end_time": "2023-04-22T16:57:22.235219",
     "exception": false,
     "start_time": "2023-04-22T16:57:22.230200",
     "status": "completed"
    },
    "tags": []
   },
   "source": [
    "# 4. Tokenization"
   ]
  },
  {
   "cell_type": "code",
   "execution_count": 6,
   "id": "eaaf9784",
   "metadata": {
    "execution": {
     "iopub.execute_input": "2023-04-22T16:57:22.247509Z",
     "iopub.status.busy": "2023-04-22T16:57:22.246808Z",
     "iopub.status.idle": "2023-04-22T16:57:22.253369Z",
     "shell.execute_reply": "2023-04-22T16:57:22.252478Z"
    },
    "papermill": {
     "duration": 0.015014,
     "end_time": "2023-04-22T16:57:22.255471",
     "exception": false,
     "start_time": "2023-04-22T16:57:22.240457",
     "status": "completed"
    },
    "tags": []
   },
   "outputs": [],
   "source": [
    "questions = train_df.question.values.tolist()\n",
    "contexts = train_df.context.values.tolist()\n",
    "answers = train_df.answer.values.tolist()\n",
    "answer_starts = train_df.answer_start.values.tolist()\n",
    "answer_ends = train_df.answer_end.values.tolist()"
   ]
  },
  {
   "cell_type": "code",
   "execution_count": 7,
   "id": "5cfbfaab",
   "metadata": {
    "execution": {
     "iopub.execute_input": "2023-04-22T16:57:22.267972Z",
     "iopub.status.busy": "2023-04-22T16:57:22.267064Z",
     "iopub.status.idle": "2023-04-22T16:57:27.255605Z",
     "shell.execute_reply": "2023-04-22T16:57:27.254537Z"
    },
    "papermill": {
     "duration": 4.997531,
     "end_time": "2023-04-22T16:57:27.258103",
     "exception": false,
     "start_time": "2023-04-22T16:57:22.260572",
     "status": "completed"
    },
    "tags": []
   },
   "outputs": [
    {
     "data": {
      "application/vnd.jupyter.widget-view+json": {
       "model_id": "51f2f5957a6640e0a2e1b391ff3b8b2a",
       "version_major": 2,
       "version_minor": 0
      },
      "text/plain": [
       "Downloading (…)lve/main/config.json:   0%|          | 0.00/615 [00:00<?, ?B/s]"
      ]
     },
     "metadata": {},
     "output_type": "display_data"
    },
    {
     "data": {
      "application/vnd.jupyter.widget-view+json": {
       "model_id": "42b2731625514b86a4001c51bb9909dc",
       "version_major": 2,
       "version_minor": 0
      },
      "text/plain": [
       "Downloading (…)tencepiece.bpe.model:   0%|          | 0.00/5.07M [00:00<?, ?B/s]"
      ]
     },
     "metadata": {},
     "output_type": "display_data"
    },
    {
     "data": {
      "application/vnd.jupyter.widget-view+json": {
       "model_id": "d4cc1812c49547a49c974443a06d8bfd",
       "version_major": 2,
       "version_minor": 0
      },
      "text/plain": [
       "Downloading (…)/main/tokenizer.json:   0%|          | 0.00/9.10M [00:00<?, ?B/s]"
      ]
     },
     "metadata": {},
     "output_type": "display_data"
    }
   ],
   "source": [
    "tokenizer = AutoTokenizer.from_pretrained(cfg.backbone)\n",
    "\n",
    "encodings = tokenizer(\n",
    "    contexts, questions,\n",
    "    padding='max_length',\n",
    "    truncation=True,\n",
    "    max_length=cfg.max_length,\n",
    ")\n",
    "\n",
    "add_token_positions(\n",
    "    encodings, \n",
    "    answer_starts, \n",
    "    answer_ends\n",
    ")"
   ]
  },
  {
   "cell_type": "markdown",
   "id": "3682dab5",
   "metadata": {
    "papermill": {
     "duration": 0.006018,
     "end_time": "2023-04-22T16:57:27.272485",
     "exception": false,
     "start_time": "2023-04-22T16:57:27.266467",
     "status": "completed"
    },
    "tags": []
   },
   "source": [
    "# 5. Dataset and DataLoader"
   ]
  },
  {
   "cell_type": "code",
   "execution_count": 8,
   "id": "d1e81d9f",
   "metadata": {
    "execution": {
     "iopub.execute_input": "2023-04-22T16:57:27.286048Z",
     "iopub.status.busy": "2023-04-22T16:57:27.284986Z",
     "iopub.status.idle": "2023-04-22T16:57:27.291618Z",
     "shell.execute_reply": "2023-04-22T16:57:27.290578Z"
    },
    "papermill": {
     "duration": 0.01568,
     "end_time": "2023-04-22T16:57:27.293804",
     "exception": false,
     "start_time": "2023-04-22T16:57:27.278124",
     "status": "completed"
    },
    "tags": []
   },
   "outputs": [],
   "source": [
    "class QADataset(torch.utils.data.Dataset):\n",
    "    def __init__(self, encodings):\n",
    "        self.encodings = encodings\n",
    "    def __getitem__(self, idx):\n",
    "        return {key: torch.tensor(val[idx]) for key, val in self.encodings.items()}\n",
    "    def __len__(self):\n",
    "        return len(self.encodings.input_ids)"
   ]
  },
  {
   "cell_type": "code",
   "execution_count": 9,
   "id": "4bf40cba",
   "metadata": {
    "execution": {
     "iopub.execute_input": "2023-04-22T16:57:27.306116Z",
     "iopub.status.busy": "2023-04-22T16:57:27.305828Z",
     "iopub.status.idle": "2023-04-22T16:57:27.311205Z",
     "shell.execute_reply": "2023-04-22T16:57:27.310166Z"
    },
    "papermill": {
     "duration": 0.013869,
     "end_time": "2023-04-22T16:57:27.313272",
     "exception": false,
     "start_time": "2023-04-22T16:57:27.299403",
     "status": "completed"
    },
    "tags": []
   },
   "outputs": [],
   "source": [
    "dataset = QADataset(encodings)\n",
    "data_loader = DataLoader(\n",
    "    dataset=dataset,\n",
    "    batch_size=cfg.batch_size, \n",
    "    drop_last=True,\n",
    "    shuffle=True,\n",
    "    num_workers=cfg.num_workers\n",
    ")"
   ]
  },
  {
   "cell_type": "markdown",
   "id": "c6018619",
   "metadata": {
    "papermill": {
     "duration": 0.005334,
     "end_time": "2023-04-22T16:57:27.324059",
     "exception": false,
     "start_time": "2023-04-22T16:57:27.318725",
     "status": "completed"
    },
    "tags": []
   },
   "source": [
    "# 6. Model Setups"
   ]
  },
  {
   "cell_type": "code",
   "execution_count": 10,
   "id": "c5e28bc8",
   "metadata": {
    "execution": {
     "iopub.execute_input": "2023-04-22T16:57:27.336945Z",
     "iopub.status.busy": "2023-04-22T16:57:27.336064Z",
     "iopub.status.idle": "2023-04-22T16:57:42.703676Z",
     "shell.execute_reply": "2023-04-22T16:57:42.702573Z"
    },
    "papermill": {
     "duration": 15.376727,
     "end_time": "2023-04-22T16:57:42.706325",
     "exception": false,
     "start_time": "2023-04-22T16:57:27.329598",
     "status": "completed"
    },
    "tags": []
   },
   "outputs": [
    {
     "data": {
      "application/vnd.jupyter.widget-view+json": {
       "model_id": "044835ceee4d4f24b8bb4eadf44eb1f8",
       "version_major": 2,
       "version_minor": 0
      },
      "text/plain": [
       "Downloading pytorch_model.bin:   0%|          | 0.00/1.12G [00:00<?, ?B/s]"
      ]
     },
     "metadata": {},
     "output_type": "display_data"
    },
    {
     "name": "stderr",
     "output_type": "stream",
     "text": [
      "Some weights of the model checkpoint at xlm-roberta-base were not used when initializing XLMRobertaForQuestionAnswering: ['lm_head.bias', 'lm_head.dense.bias', 'lm_head.decoder.weight', 'lm_head.dense.weight', 'lm_head.layer_norm.bias', 'lm_head.layer_norm.weight']\n",
      "- This IS expected if you are initializing XLMRobertaForQuestionAnswering from the checkpoint of a model trained on another task or with another architecture (e.g. initializing a BertForSequenceClassification model from a BertForPreTraining model).\n",
      "- This IS NOT expected if you are initializing XLMRobertaForQuestionAnswering from the checkpoint of a model that you expect to be exactly identical (initializing a BertForSequenceClassification model from a BertForSequenceClassification model).\n",
      "Some weights of XLMRobertaForQuestionAnswering were not initialized from the model checkpoint at xlm-roberta-base and are newly initialized: ['qa_outputs.weight', 'qa_outputs.bias']\n",
      "You should probably TRAIN this model on a down-stream task to be able to use it for predictions and inference.\n"
     ]
    }
   ],
   "source": [
    "config = AutoConfig.from_pretrained(cfg.backbone)\n",
    "config.hidden_dropout_prob = cfg.intermediate_dropout\n",
    "config.attention_probs_dropout_prob = cfg.intermediate_dropout\n",
    "\n",
    "set_seed(seed=cfg.seed)\n",
    "model = AutoModelForQuestionAnswering.from_pretrained(\n",
    "    cfg.backbone, \n",
    "    config=config\n",
    ")\n",
    "model.to(cfg.device);"
   ]
  },
  {
   "cell_type": "code",
   "execution_count": 11,
   "id": "4befdf93",
   "metadata": {
    "execution": {
     "iopub.execute_input": "2023-04-22T16:57:42.723451Z",
     "iopub.status.busy": "2023-04-22T16:57:42.723107Z",
     "iopub.status.idle": "2023-04-22T16:57:42.731256Z",
     "shell.execute_reply": "2023-04-22T16:57:42.730170Z"
    },
    "papermill": {
     "duration": 0.019354,
     "end_time": "2023-04-22T16:57:42.733447",
     "exception": false,
     "start_time": "2023-04-22T16:57:42.714093",
     "status": "completed"
    },
    "tags": []
   },
   "outputs": [],
   "source": [
    "optimizer = optim.AdamW(\n",
    "    model.parameters(), \n",
    "    lr=cfg.learning_rate,\n",
    "    weight_decay=cfg.weight_decay\n",
    ")\n",
    "\n",
    "scheduler = get_cosine_schedule_with_warmup(\n",
    "    optimizer=optimizer,\n",
    "    num_warmup_steps=cfg.warmup_steps,\n",
    "    num_training_steps=len(data_loader)*cfg.epochs\n",
    ")\n",
    "\n",
    "scaler = GradScaler()"
   ]
  },
  {
   "cell_type": "markdown",
   "id": "e5ce1c1f",
   "metadata": {
    "papermill": {
     "duration": 0.006108,
     "end_time": "2023-04-22T16:57:42.746312",
     "exception": false,
     "start_time": "2023-04-22T16:57:42.740204",
     "status": "completed"
    },
    "tags": []
   },
   "source": [
    "# 7. Fine-tuning"
   ]
  },
  {
   "cell_type": "code",
   "execution_count": 12,
   "id": "b61bfa7b",
   "metadata": {
    "execution": {
     "iopub.execute_input": "2023-04-22T16:57:42.760596Z",
     "iopub.status.busy": "2023-04-22T16:57:42.760311Z",
     "iopub.status.idle": "2023-04-22T17:01:41.177388Z",
     "shell.execute_reply": "2023-04-22T17:01:41.176217Z"
    },
    "papermill": {
     "duration": 238.435685,
     "end_time": "2023-04-22T17:01:41.187763",
     "exception": false,
     "start_time": "2023-04-22T16:57:42.752078",
     "status": "completed"
    },
    "tags": []
   },
   "outputs": [
    {
     "data": {
      "application/vnd.jupyter.widget-view+json": {
       "model_id": "f0a0b4ee00964e98bc54fc828709eb50",
       "version_major": 2,
       "version_minor": 0
      },
      "text/plain": [
       "  0%|          | 0/3 [00:00<?, ?it/s]"
      ]
     },
     "metadata": {},
     "output_type": "display_data"
    },
    {
     "name": "stdout",
     "output_type": "stream",
     "text": [
      "Epoch: 1/3 | Batch: 0/388 | Loss: 4.5768\n",
      "Epoch: 1/3 | Batch: 100/388 | Loss: 0.5002\n",
      "Epoch: 1/3 | Batch: 200/388 | Loss: 0.6547\n",
      "Epoch: 1/3 | Batch: 300/388 | Loss: 0.8190\n",
      "Epoch: 2/3 | Batch: 0/388 | Loss: 0.3760\n",
      "Epoch: 2/3 | Batch: 100/388 | Loss: 0.2905\n",
      "Epoch: 2/3 | Batch: 200/388 | Loss: 0.2072\n",
      "Epoch: 2/3 | Batch: 300/388 | Loss: 0.3333\n",
      "Epoch: 3/3 | Batch: 0/388 | Loss: 0.0700\n",
      "Epoch: 3/3 | Batch: 100/388 | Loss: 0.0209\n",
      "Epoch: 3/3 | Batch: 200/388 | Loss: 0.0321\n",
      "Epoch: 3/3 | Batch: 300/388 | Loss: 0.0477\n"
     ]
    }
   ],
   "source": [
    "for epoch in tqdm(range(cfg.epochs)):\n",
    "    \n",
    "    model.train()\n",
    "    \n",
    "    for batch_idx, batch in enumerate(data_loader):\n",
    "        input_ids = batch['input_ids'].to(cfg.device)\n",
    "        attention_mask = batch['attention_mask'].to(cfg.device)\n",
    "        start_positions = batch['start_positions'].to(cfg.device)\n",
    "        end_positions = batch['end_positions'].to(cfg.device)\n",
    "        \n",
    "        idx = torch.quantile(\n",
    "            torch.where(attention_mask==1)[1].float(),\n",
    "            q=cfg.padding_quantile\n",
    "        ).long()\n",
    "        \n",
    "        attention_mask = attention_mask[:, :idx]\n",
    "        input_ids = input_ids[:, :idx]\n",
    "\n",
    "        with autocast(): \n",
    "            outputs = model(\n",
    "                input_ids=input_ids, \n",
    "                attention_mask=attention_mask,\n",
    "                start_positions=start_positions,\n",
    "                end_positions=end_positions\n",
    "            )\n",
    "            \n",
    "            loss = outputs[0]\n",
    "            \n",
    "        scaler.scale(loss).backward()\n",
    "        scaler.step(optimizer)\n",
    "        scaler.update()\n",
    "        optimizer.zero_grad()\n",
    "        scheduler.step()\n",
    "        \n",
    "        if not batch_idx % 100:\n",
    "            print(\n",
    "                f'Epoch: {epoch + 1}/{cfg.epochs}'\n",
    "                f' | Batch: {batch_idx}/{len(data_loader)}'\n",
    "                f' | Loss: {loss:.4f}'\n",
    "            )"
   ]
  },
  {
   "cell_type": "markdown",
   "id": "785f376e",
   "metadata": {
    "papermill": {
     "duration": 0.00935,
     "end_time": "2023-04-22T17:01:41.206773",
     "exception": false,
     "start_time": "2023-04-22T17:01:41.197423",
     "status": "completed"
    },
    "tags": []
   },
   "source": [
    "# 8. Save model"
   ]
  },
  {
   "cell_type": "code",
   "execution_count": 13,
   "id": "fe4bcff3",
   "metadata": {
    "execution": {
     "iopub.execute_input": "2023-04-22T17:01:41.227552Z",
     "iopub.status.busy": "2023-04-22T17:01:41.226970Z",
     "iopub.status.idle": "2023-04-22T17:01:43.301830Z",
     "shell.execute_reply": "2023-04-22T17:01:43.300743Z"
    },
    "papermill": {
     "duration": 2.088306,
     "end_time": "2023-04-22T17:01:43.304373",
     "exception": false,
     "start_time": "2023-04-22T17:01:41.216067",
     "status": "completed"
    },
    "tags": []
   },
   "outputs": [],
   "source": [
    "model.eval()\n",
    "torch.save(model.state_dict(), 'qa_model.pth')"
   ]
  },
  {
   "cell_type": "markdown",
   "id": "adab2c13",
   "metadata": {
    "papermill": {
     "duration": 0.006351,
     "end_time": "2023-04-22T17:01:43.317476",
     "exception": false,
     "start_time": "2023-04-22T17:01:43.311125",
     "status": "completed"
    },
    "tags": []
   },
   "source": [
    "# Q-A"
   ]
  },
  {
   "cell_type": "code",
   "execution_count": 14,
   "id": "20398a48",
   "metadata": {
    "execution": {
     "iopub.execute_input": "2023-04-22T17:01:43.331867Z",
     "iopub.status.busy": "2023-04-22T17:01:43.331558Z",
     "iopub.status.idle": "2023-04-22T17:01:43.336768Z",
     "shell.execute_reply": "2023-04-22T17:01:43.335673Z"
    },
    "papermill": {
     "duration": 0.015125,
     "end_time": "2023-04-22T17:01:43.339281",
     "exception": false,
     "start_time": "2023-04-22T17:01:43.324156",
     "status": "completed"
    },
    "tags": []
   },
   "outputs": [],
   "source": [
    "context_1 = \"\"\"\n",
    "Elon Reeve Musk FRS (sinh ngày 28 tháng 6 năm 1971), là một kỹ sư, nhà tài phiệt, \n",
    "nhà phát minh, doanh nhân công nghệ và nhà từ thiện người Mỹ gốc Nam Phi. \n",
    "\"\"\"\n",
    "\n",
    "context_2 = \"\"\"\n",
    "Elon Musk cùng với em trai, Kimbal, đồng sáng lập ra Zip2, \n",
    "một công ty phần mềm web và được hãng Compaq mua lại với giá 340 triệu USD vào năm 1999.\n",
    "\"\"\""
   ]
  },
  {
   "cell_type": "code",
   "execution_count": 15,
   "id": "9bd0fb2d",
   "metadata": {
    "execution": {
     "iopub.execute_input": "2023-04-22T17:01:43.353219Z",
     "iopub.status.busy": "2023-04-22T17:01:43.352924Z",
     "iopub.status.idle": "2023-04-22T17:01:43.371127Z",
     "shell.execute_reply": "2023-04-22T17:01:43.370158Z"
    },
    "papermill": {
     "duration": 0.027673,
     "end_time": "2023-04-22T17:01:43.373313",
     "exception": false,
     "start_time": "2023-04-22T17:01:43.345640",
     "status": "completed"
    },
    "tags": []
   },
   "outputs": [
    {
     "name": "stdout",
     "output_type": "stream",
     "text": [
      "- Question: Elon Musk là người nước nào?\n",
      "- Answer: Mỹ gốc Nam Phi\n"
     ]
    }
   ],
   "source": [
    "question_1 = 'Elon Musk là người nước nào?'\n",
    "run_prediction(context_1, question_1)"
   ]
  },
  {
   "cell_type": "code",
   "execution_count": 16,
   "id": "30b2ec55",
   "metadata": {
    "execution": {
     "iopub.execute_input": "2023-04-22T17:01:43.387530Z",
     "iopub.status.busy": "2023-04-22T17:01:43.387254Z",
     "iopub.status.idle": "2023-04-22T17:01:43.404534Z",
     "shell.execute_reply": "2023-04-22T17:01:43.403172Z"
    },
    "papermill": {
     "duration": 0.026663,
     "end_time": "2023-04-22T17:01:43.406555",
     "exception": false,
     "start_time": "2023-04-22T17:01:43.379892",
     "status": "completed"
    },
    "tags": []
   },
   "outputs": [
    {
     "name": "stdout",
     "output_type": "stream",
     "text": [
      "- Question: Elon Musk sinh ngày bao nhiêu?\n",
      "- Answer: ngày 28 tháng 6 năm 1971\n"
     ]
    }
   ],
   "source": [
    "question_2 = 'Elon Musk sinh ngày bao nhiêu?'\n",
    "run_prediction(context_1, question_2)"
   ]
  },
  {
   "cell_type": "code",
   "execution_count": 17,
   "id": "ac9254c9",
   "metadata": {
    "execution": {
     "iopub.execute_input": "2023-04-22T17:01:43.420726Z",
     "iopub.status.busy": "2023-04-22T17:01:43.420455Z",
     "iopub.status.idle": "2023-04-22T17:01:43.437311Z",
     "shell.execute_reply": "2023-04-22T17:01:43.436371Z"
    },
    "papermill": {
     "duration": 0.026398,
     "end_time": "2023-04-22T17:01:43.439455",
     "exception": false,
     "start_time": "2023-04-22T17:01:43.413057",
     "status": "completed"
    },
    "tags": []
   },
   "outputs": [
    {
     "name": "stdout",
     "output_type": "stream",
     "text": [
      "- Question: Em trai Elon tên là gì?\n",
      "- Answer: Kimbal\n"
     ]
    }
   ],
   "source": [
    "question_3 = 'Em trai Elon tên là gì?'\n",
    "run_prediction(context_2, question_3)"
   ]
  },
  {
   "cell_type": "code",
   "execution_count": 18,
   "id": "0b9b7876",
   "metadata": {
    "execution": {
     "iopub.execute_input": "2023-04-22T17:01:43.454267Z",
     "iopub.status.busy": "2023-04-22T17:01:43.453461Z",
     "iopub.status.idle": "2023-04-22T17:01:43.469837Z",
     "shell.execute_reply": "2023-04-22T17:01:43.468739Z"
    },
    "papermill": {
     "duration": 0.026227,
     "end_time": "2023-04-22T17:01:43.472300",
     "exception": false,
     "start_time": "2023-04-22T17:01:43.446073",
     "status": "completed"
    },
    "tags": []
   },
   "outputs": [
    {
     "name": "stdout",
     "output_type": "stream",
     "text": [
      "- Question: Hãng Compaq mua lại Zip2 với giá bao nhiêu?\n",
      "- Answer: 340 triệu USD\n"
     ]
    }
   ],
   "source": [
    "question_4 = 'Hãng Compaq mua lại Zip2 với giá bao nhiêu?'\n",
    "run_prediction(context_2, question_4)"
   ]
  },
  {
   "cell_type": "code",
   "execution_count": null,
   "id": "e2705485",
   "metadata": {
    "papermill": {
     "duration": 0.006446,
     "end_time": "2023-04-22T17:01:43.485425",
     "exception": false,
     "start_time": "2023-04-22T17:01:43.478979",
     "status": "completed"
    },
    "tags": []
   },
   "outputs": [],
   "source": []
  }
 ],
 "metadata": {
  "kernelspec": {
   "display_name": "Python 3",
   "language": "python",
   "name": "python3"
  },
  "language_info": {
   "codemirror_mode": {
    "name": "ipython",
    "version": 3
   },
   "file_extension": ".py",
   "mimetype": "text/x-python",
   "name": "python",
   "nbconvert_exporter": "python",
   "pygments_lexer": "ipython3",
   "version": "3.7.12"
  },
  "papermill": {
   "default_parameters": {},
   "duration": 282.883456,
   "end_time": "2023-04-22T17:01:46.464648",
   "environment_variables": {},
   "exception": null,
   "input_path": "__notebook__.ipynb",
   "output_path": "__notebook__.ipynb",
   "parameters": {},
   "start_time": "2023-04-22T16:57:03.581192",
   "version": "2.4.0"
  },
  "widgets": {
   "application/vnd.jupyter.widget-state+json": {
    "state": {
     "02490f8b075a4c7db581e0bfe5716725": {
      "model_module": "@jupyter-widgets/controls",
      "model_module_version": "1.5.0",
      "model_name": "DescriptionStyleModel",
      "state": {
       "_model_module": "@jupyter-widgets/controls",
       "_model_module_version": "1.5.0",
       "_model_name": "DescriptionStyleModel",
       "_view_count": null,
       "_view_module": "@jupyter-widgets/base",
       "_view_module_version": "1.2.0",
       "_view_name": "StyleView",
       "description_width": ""
      }
     },
     "024f2d961a534a2c8160d814d37d7651": {
      "model_module": "@jupyter-widgets/controls",
      "model_module_version": "1.5.0",
      "model_name": "HTMLModel",
      "state": {
       "_dom_classes": [],
       "_model_module": "@jupyter-widgets/controls",
       "_model_module_version": "1.5.0",
       "_model_name": "HTMLModel",
       "_view_count": null,
       "_view_module": "@jupyter-widgets/controls",
       "_view_module_version": "1.5.0",
       "_view_name": "HTMLView",
       "description": "",
       "description_tooltip": null,
       "layout": "IPY_MODEL_168907c43dab4cca87cd0cdb682c6671",
       "placeholder": "​",
       "style": "IPY_MODEL_c519bf44321844d88da9fa7daac1be1a",
       "value": "100%"
      }
     },
     "02ee3f5da63945d9a14e9491348c0723": {
      "model_module": "@jupyter-widgets/base",
      "model_module_version": "1.2.0",
      "model_name": "LayoutModel",
      "state": {
       "_model_module": "@jupyter-widgets/base",
       "_model_module_version": "1.2.0",
       "_model_name": "LayoutModel",
       "_view_count": null,
       "_view_module": "@jupyter-widgets/base",
       "_view_module_version": "1.2.0",
       "_view_name": "LayoutView",
       "align_content": null,
       "align_items": null,
       "align_self": null,
       "border": null,
       "bottom": null,
       "display": null,
       "flex": null,
       "flex_flow": null,
       "grid_area": null,
       "grid_auto_columns": null,
       "grid_auto_flow": null,
       "grid_auto_rows": null,
       "grid_column": null,
       "grid_gap": null,
       "grid_row": null,
       "grid_template_areas": null,
       "grid_template_columns": null,
       "grid_template_rows": null,
       "height": null,
       "justify_content": null,
       "justify_items": null,
       "left": null,
       "margin": null,
       "max_height": null,
       "max_width": null,
       "min_height": null,
       "min_width": null,
       "object_fit": null,
       "object_position": null,
       "order": null,
       "overflow": null,
       "overflow_x": null,
       "overflow_y": null,
       "padding": null,
       "right": null,
       "top": null,
       "visibility": null,
       "width": null
      }
     },
     "044835ceee4d4f24b8bb4eadf44eb1f8": {
      "model_module": "@jupyter-widgets/controls",
      "model_module_version": "1.5.0",
      "model_name": "HBoxModel",
      "state": {
       "_dom_classes": [],
       "_model_module": "@jupyter-widgets/controls",
       "_model_module_version": "1.5.0",
       "_model_name": "HBoxModel",
       "_view_count": null,
       "_view_module": "@jupyter-widgets/controls",
       "_view_module_version": "1.5.0",
       "_view_name": "HBoxView",
       "box_style": "",
       "children": [
        "IPY_MODEL_a7984efdf5b24a8dac0d85004209c794",
        "IPY_MODEL_14bbc1b6567d41fa99d9025817cc6821",
        "IPY_MODEL_a88f80117ef2461c8b4f2fbc08b09665"
       ],
       "layout": "IPY_MODEL_c8be61cc644043c18d81fc80a40c2547"
      }
     },
     "0fd4cd71597b4832af42de66e441788f": {
      "model_module": "@jupyter-widgets/controls",
      "model_module_version": "1.5.0",
      "model_name": "DescriptionStyleModel",
      "state": {
       "_model_module": "@jupyter-widgets/controls",
       "_model_module_version": "1.5.0",
       "_model_name": "DescriptionStyleModel",
       "_view_count": null,
       "_view_module": "@jupyter-widgets/base",
       "_view_module_version": "1.2.0",
       "_view_name": "StyleView",
       "description_width": ""
      }
     },
     "106b67aac9c4477b96958bd983e3de57": {
      "model_module": "@jupyter-widgets/controls",
      "model_module_version": "1.5.0",
      "model_name": "HTMLModel",
      "state": {
       "_dom_classes": [],
       "_model_module": "@jupyter-widgets/controls",
       "_model_module_version": "1.5.0",
       "_model_name": "HTMLModel",
       "_view_count": null,
       "_view_module": "@jupyter-widgets/controls",
       "_view_module_version": "1.5.0",
       "_view_name": "HTMLView",
       "description": "",
       "description_tooltip": null,
       "layout": "IPY_MODEL_47d23f9e55b54cc0a9559b2e68742a7d",
       "placeholder": "​",
       "style": "IPY_MODEL_0fd4cd71597b4832af42de66e441788f",
       "value": " 615/615 [00:00&lt;00:00, 27.0kB/s]"
      }
     },
     "14bbc1b6567d41fa99d9025817cc6821": {
      "model_module": "@jupyter-widgets/controls",
      "model_module_version": "1.5.0",
      "model_name": "FloatProgressModel",
      "state": {
       "_dom_classes": [],
       "_model_module": "@jupyter-widgets/controls",
       "_model_module_version": "1.5.0",
       "_model_name": "FloatProgressModel",
       "_view_count": null,
       "_view_module": "@jupyter-widgets/controls",
       "_view_module_version": "1.5.0",
       "_view_name": "ProgressView",
       "bar_style": "success",
       "description": "",
       "description_tooltip": null,
       "layout": "IPY_MODEL_cce714e8dec44ebd9145a49dacf79c64",
       "max": 1115590446.0,
       "min": 0.0,
       "orientation": "horizontal",
       "style": "IPY_MODEL_b865c3706a304ea580dba6024f9651b9",
       "value": 1115590446.0
      }
     },
     "1668c8ee377947c1ac9047be84369dd6": {
      "model_module": "@jupyter-widgets/controls",
      "model_module_version": "1.5.0",
      "model_name": "DescriptionStyleModel",
      "state": {
       "_model_module": "@jupyter-widgets/controls",
       "_model_module_version": "1.5.0",
       "_model_name": "DescriptionStyleModel",
       "_view_count": null,
       "_view_module": "@jupyter-widgets/base",
       "_view_module_version": "1.2.0",
       "_view_name": "StyleView",
       "description_width": ""
      }
     },
     "168907c43dab4cca87cd0cdb682c6671": {
      "model_module": "@jupyter-widgets/base",
      "model_module_version": "1.2.0",
      "model_name": "LayoutModel",
      "state": {
       "_model_module": "@jupyter-widgets/base",
       "_model_module_version": "1.2.0",
       "_model_name": "LayoutModel",
       "_view_count": null,
       "_view_module": "@jupyter-widgets/base",
       "_view_module_version": "1.2.0",
       "_view_name": "LayoutView",
       "align_content": null,
       "align_items": null,
       "align_self": null,
       "border": null,
       "bottom": null,
       "display": null,
       "flex": null,
       "flex_flow": null,
       "grid_area": null,
       "grid_auto_columns": null,
       "grid_auto_flow": null,
       "grid_auto_rows": null,
       "grid_column": null,
       "grid_gap": null,
       "grid_row": null,
       "grid_template_areas": null,
       "grid_template_columns": null,
       "grid_template_rows": null,
       "height": null,
       "justify_content": null,
       "justify_items": null,
       "left": null,
       "margin": null,
       "max_height": null,
       "max_width": null,
       "min_height": null,
       "min_width": null,
       "object_fit": null,
       "object_position": null,
       "order": null,
       "overflow": null,
       "overflow_x": null,
       "overflow_y": null,
       "padding": null,
       "right": null,
       "top": null,
       "visibility": null,
       "width": null
      }
     },
     "1c689118bbfe429b8e5cd509c5a3ea79": {
      "model_module": "@jupyter-widgets/controls",
      "model_module_version": "1.5.0",
      "model_name": "ProgressStyleModel",
      "state": {
       "_model_module": "@jupyter-widgets/controls",
       "_model_module_version": "1.5.0",
       "_model_name": "ProgressStyleModel",
       "_view_count": null,
       "_view_module": "@jupyter-widgets/base",
       "_view_module_version": "1.2.0",
       "_view_name": "StyleView",
       "bar_color": null,
       "description_width": ""
      }
     },
     "2762075673f84c3dbdc1102deed136a2": {
      "model_module": "@jupyter-widgets/base",
      "model_module_version": "1.2.0",
      "model_name": "LayoutModel",
      "state": {
       "_model_module": "@jupyter-widgets/base",
       "_model_module_version": "1.2.0",
       "_model_name": "LayoutModel",
       "_view_count": null,
       "_view_module": "@jupyter-widgets/base",
       "_view_module_version": "1.2.0",
       "_view_name": "LayoutView",
       "align_content": null,
       "align_items": null,
       "align_self": null,
       "border": null,
       "bottom": null,
       "display": null,
       "flex": null,
       "flex_flow": null,
       "grid_area": null,
       "grid_auto_columns": null,
       "grid_auto_flow": null,
       "grid_auto_rows": null,
       "grid_column": null,
       "grid_gap": null,
       "grid_row": null,
       "grid_template_areas": null,
       "grid_template_columns": null,
       "grid_template_rows": null,
       "height": null,
       "justify_content": null,
       "justify_items": null,
       "left": null,
       "margin": null,
       "max_height": null,
       "max_width": null,
       "min_height": null,
       "min_width": null,
       "object_fit": null,
       "object_position": null,
       "order": null,
       "overflow": null,
       "overflow_x": null,
       "overflow_y": null,
       "padding": null,
       "right": null,
       "top": null,
       "visibility": null,
       "width": null
      }
     },
     "2c42467dd85b4363be2ca1dbf9c40ac0": {
      "model_module": "@jupyter-widgets/base",
      "model_module_version": "1.2.0",
      "model_name": "LayoutModel",
      "state": {
       "_model_module": "@jupyter-widgets/base",
       "_model_module_version": "1.2.0",
       "_model_name": "LayoutModel",
       "_view_count": null,
       "_view_module": "@jupyter-widgets/base",
       "_view_module_version": "1.2.0",
       "_view_name": "LayoutView",
       "align_content": null,
       "align_items": null,
       "align_self": null,
       "border": null,
       "bottom": null,
       "display": null,
       "flex": null,
       "flex_flow": null,
       "grid_area": null,
       "grid_auto_columns": null,
       "grid_auto_flow": null,
       "grid_auto_rows": null,
       "grid_column": null,
       "grid_gap": null,
       "grid_row": null,
       "grid_template_areas": null,
       "grid_template_columns": null,
       "grid_template_rows": null,
       "height": null,
       "justify_content": null,
       "justify_items": null,
       "left": null,
       "margin": null,
       "max_height": null,
       "max_width": null,
       "min_height": null,
       "min_width": null,
       "object_fit": null,
       "object_position": null,
       "order": null,
       "overflow": null,
       "overflow_x": null,
       "overflow_y": null,
       "padding": null,
       "right": null,
       "top": null,
       "visibility": null,
       "width": null
      }
     },
     "30a6ba12f1d24e1a9d9d80629595dc51": {
      "model_module": "@jupyter-widgets/controls",
      "model_module_version": "1.5.0",
      "model_name": "DescriptionStyleModel",
      "state": {
       "_model_module": "@jupyter-widgets/controls",
       "_model_module_version": "1.5.0",
       "_model_name": "DescriptionStyleModel",
       "_view_count": null,
       "_view_module": "@jupyter-widgets/base",
       "_view_module_version": "1.2.0",
       "_view_name": "StyleView",
       "description_width": ""
      }
     },
     "364f0507b41e495b8aaf5550f145f507": {
      "model_module": "@jupyter-widgets/base",
      "model_module_version": "1.2.0",
      "model_name": "LayoutModel",
      "state": {
       "_model_module": "@jupyter-widgets/base",
       "_model_module_version": "1.2.0",
       "_model_name": "LayoutModel",
       "_view_count": null,
       "_view_module": "@jupyter-widgets/base",
       "_view_module_version": "1.2.0",
       "_view_name": "LayoutView",
       "align_content": null,
       "align_items": null,
       "align_self": null,
       "border": null,
       "bottom": null,
       "display": null,
       "flex": null,
       "flex_flow": null,
       "grid_area": null,
       "grid_auto_columns": null,
       "grid_auto_flow": null,
       "grid_auto_rows": null,
       "grid_column": null,
       "grid_gap": null,
       "grid_row": null,
       "grid_template_areas": null,
       "grid_template_columns": null,
       "grid_template_rows": null,
       "height": null,
       "justify_content": null,
       "justify_items": null,
       "left": null,
       "margin": null,
       "max_height": null,
       "max_width": null,
       "min_height": null,
       "min_width": null,
       "object_fit": null,
       "object_position": null,
       "order": null,
       "overflow": null,
       "overflow_x": null,
       "overflow_y": null,
       "padding": null,
       "right": null,
       "top": null,
       "visibility": null,
       "width": null
      }
     },
     "36a19732816840ef9029108f63a0ced7": {
      "model_module": "@jupyter-widgets/controls",
      "model_module_version": "1.5.0",
      "model_name": "FloatProgressModel",
      "state": {
       "_dom_classes": [],
       "_model_module": "@jupyter-widgets/controls",
       "_model_module_version": "1.5.0",
       "_model_name": "FloatProgressModel",
       "_view_count": null,
       "_view_module": "@jupyter-widgets/controls",
       "_view_module_version": "1.5.0",
       "_view_name": "ProgressView",
       "bar_style": "success",
       "description": "",
       "description_tooltip": null,
       "layout": "IPY_MODEL_c5c4071d60524c9399d229f82c17d2a1",
       "max": 5069051.0,
       "min": 0.0,
       "orientation": "horizontal",
       "style": "IPY_MODEL_59918d70964048ee991549d4add97564",
       "value": 5069051.0
      }
     },
     "42b2731625514b86a4001c51bb9909dc": {
      "model_module": "@jupyter-widgets/controls",
      "model_module_version": "1.5.0",
      "model_name": "HBoxModel",
      "state": {
       "_dom_classes": [],
       "_model_module": "@jupyter-widgets/controls",
       "_model_module_version": "1.5.0",
       "_model_name": "HBoxModel",
       "_view_count": null,
       "_view_module": "@jupyter-widgets/controls",
       "_view_module_version": "1.5.0",
       "_view_name": "HBoxView",
       "box_style": "",
       "children": [
        "IPY_MODEL_514bd7c20968426da8826ebf2aa03f41",
        "IPY_MODEL_36a19732816840ef9029108f63a0ced7",
        "IPY_MODEL_9ca764117bf84d7898887728b68786ca"
       ],
       "layout": "IPY_MODEL_364f0507b41e495b8aaf5550f145f507"
      }
     },
     "459418ab8c904fff923633fe8d2b822d": {
      "model_module": "@jupyter-widgets/base",
      "model_module_version": "1.2.0",
      "model_name": "LayoutModel",
      "state": {
       "_model_module": "@jupyter-widgets/base",
       "_model_module_version": "1.2.0",
       "_model_name": "LayoutModel",
       "_view_count": null,
       "_view_module": "@jupyter-widgets/base",
       "_view_module_version": "1.2.0",
       "_view_name": "LayoutView",
       "align_content": null,
       "align_items": null,
       "align_self": null,
       "border": null,
       "bottom": null,
       "display": null,
       "flex": null,
       "flex_flow": null,
       "grid_area": null,
       "grid_auto_columns": null,
       "grid_auto_flow": null,
       "grid_auto_rows": null,
       "grid_column": null,
       "grid_gap": null,
       "grid_row": null,
       "grid_template_areas": null,
       "grid_template_columns": null,
       "grid_template_rows": null,
       "height": null,
       "justify_content": null,
       "justify_items": null,
       "left": null,
       "margin": null,
       "max_height": null,
       "max_width": null,
       "min_height": null,
       "min_width": null,
       "object_fit": null,
       "object_position": null,
       "order": null,
       "overflow": null,
       "overflow_x": null,
       "overflow_y": null,
       "padding": null,
       "right": null,
       "top": null,
       "visibility": null,
       "width": null
      }
     },
     "47d23f9e55b54cc0a9559b2e68742a7d": {
      "model_module": "@jupyter-widgets/base",
      "model_module_version": "1.2.0",
      "model_name": "LayoutModel",
      "state": {
       "_model_module": "@jupyter-widgets/base",
       "_model_module_version": "1.2.0",
       "_model_name": "LayoutModel",
       "_view_count": null,
       "_view_module": "@jupyter-widgets/base",
       "_view_module_version": "1.2.0",
       "_view_name": "LayoutView",
       "align_content": null,
       "align_items": null,
       "align_self": null,
       "border": null,
       "bottom": null,
       "display": null,
       "flex": null,
       "flex_flow": null,
       "grid_area": null,
       "grid_auto_columns": null,
       "grid_auto_flow": null,
       "grid_auto_rows": null,
       "grid_column": null,
       "grid_gap": null,
       "grid_row": null,
       "grid_template_areas": null,
       "grid_template_columns": null,
       "grid_template_rows": null,
       "height": null,
       "justify_content": null,
       "justify_items": null,
       "left": null,
       "margin": null,
       "max_height": null,
       "max_width": null,
       "min_height": null,
       "min_width": null,
       "object_fit": null,
       "object_position": null,
       "order": null,
       "overflow": null,
       "overflow_x": null,
       "overflow_y": null,
       "padding": null,
       "right": null,
       "top": null,
       "visibility": null,
       "width": null
      }
     },
     "4ce0d469fea74b438c5b1300c97043c1": {
      "model_module": "@jupyter-widgets/base",
      "model_module_version": "1.2.0",
      "model_name": "LayoutModel",
      "state": {
       "_model_module": "@jupyter-widgets/base",
       "_model_module_version": "1.2.0",
       "_model_name": "LayoutModel",
       "_view_count": null,
       "_view_module": "@jupyter-widgets/base",
       "_view_module_version": "1.2.0",
       "_view_name": "LayoutView",
       "align_content": null,
       "align_items": null,
       "align_self": null,
       "border": null,
       "bottom": null,
       "display": null,
       "flex": null,
       "flex_flow": null,
       "grid_area": null,
       "grid_auto_columns": null,
       "grid_auto_flow": null,
       "grid_auto_rows": null,
       "grid_column": null,
       "grid_gap": null,
       "grid_row": null,
       "grid_template_areas": null,
       "grid_template_columns": null,
       "grid_template_rows": null,
       "height": null,
       "justify_content": null,
       "justify_items": null,
       "left": null,
       "margin": null,
       "max_height": null,
       "max_width": null,
       "min_height": null,
       "min_width": null,
       "object_fit": null,
       "object_position": null,
       "order": null,
       "overflow": null,
       "overflow_x": null,
       "overflow_y": null,
       "padding": null,
       "right": null,
       "top": null,
       "visibility": null,
       "width": null
      }
     },
     "504a17ced3fd4b44a8a1dfbdd5ae86af": {
      "model_module": "@jupyter-widgets/controls",
      "model_module_version": "1.5.0",
      "model_name": "FloatProgressModel",
      "state": {
       "_dom_classes": [],
       "_model_module": "@jupyter-widgets/controls",
       "_model_module_version": "1.5.0",
       "_model_name": "FloatProgressModel",
       "_view_count": null,
       "_view_module": "@jupyter-widgets/controls",
       "_view_module_version": "1.5.0",
       "_view_name": "ProgressView",
       "bar_style": "success",
       "description": "",
       "description_tooltip": null,
       "layout": "IPY_MODEL_ab81f4c78aef42ddb46970ba16248021",
       "max": 3.0,
       "min": 0.0,
       "orientation": "horizontal",
       "style": "IPY_MODEL_f49b6bb1dd2344728896ff01f1889d15",
       "value": 3.0
      }
     },
     "514bd7c20968426da8826ebf2aa03f41": {
      "model_module": "@jupyter-widgets/controls",
      "model_module_version": "1.5.0",
      "model_name": "HTMLModel",
      "state": {
       "_dom_classes": [],
       "_model_module": "@jupyter-widgets/controls",
       "_model_module_version": "1.5.0",
       "_model_name": "HTMLModel",
       "_view_count": null,
       "_view_module": "@jupyter-widgets/controls",
       "_view_module_version": "1.5.0",
       "_view_name": "HTMLView",
       "description": "",
       "description_tooltip": null,
       "layout": "IPY_MODEL_85a063ef628d4a85b52f85cb7a5caae1",
       "placeholder": "​",
       "style": "IPY_MODEL_7bbdf5940e9a49a9a1f8afe6bf35e1a9",
       "value": "Downloading (…)tencepiece.bpe.model: 100%"
      }
     },
     "51f2f5957a6640e0a2e1b391ff3b8b2a": {
      "model_module": "@jupyter-widgets/controls",
      "model_module_version": "1.5.0",
      "model_name": "HBoxModel",
      "state": {
       "_dom_classes": [],
       "_model_module": "@jupyter-widgets/controls",
       "_model_module_version": "1.5.0",
       "_model_name": "HBoxModel",
       "_view_count": null,
       "_view_module": "@jupyter-widgets/controls",
       "_view_module_version": "1.5.0",
       "_view_name": "HBoxView",
       "box_style": "",
       "children": [
        "IPY_MODEL_79c569d9c32e43e4a73974c52e9d64f2",
        "IPY_MODEL_900d2c614351496695f5acef01e993ee",
        "IPY_MODEL_106b67aac9c4477b96958bd983e3de57"
       ],
       "layout": "IPY_MODEL_f3e2d09e48374569abb75fb2bbf74528"
      }
     },
     "59918d70964048ee991549d4add97564": {
      "model_module": "@jupyter-widgets/controls",
      "model_module_version": "1.5.0",
      "model_name": "ProgressStyleModel",
      "state": {
       "_model_module": "@jupyter-widgets/controls",
       "_model_module_version": "1.5.0",
       "_model_name": "ProgressStyleModel",
       "_view_count": null,
       "_view_module": "@jupyter-widgets/base",
       "_view_module_version": "1.2.0",
       "_view_name": "StyleView",
       "bar_color": null,
       "description_width": ""
      }
     },
     "6ccf0e4989dc46cfa281759c0eff220a": {
      "model_module": "@jupyter-widgets/base",
      "model_module_version": "1.2.0",
      "model_name": "LayoutModel",
      "state": {
       "_model_module": "@jupyter-widgets/base",
       "_model_module_version": "1.2.0",
       "_model_name": "LayoutModel",
       "_view_count": null,
       "_view_module": "@jupyter-widgets/base",
       "_view_module_version": "1.2.0",
       "_view_name": "LayoutView",
       "align_content": null,
       "align_items": null,
       "align_self": null,
       "border": null,
       "bottom": null,
       "display": null,
       "flex": null,
       "flex_flow": null,
       "grid_area": null,
       "grid_auto_columns": null,
       "grid_auto_flow": null,
       "grid_auto_rows": null,
       "grid_column": null,
       "grid_gap": null,
       "grid_row": null,
       "grid_template_areas": null,
       "grid_template_columns": null,
       "grid_template_rows": null,
       "height": null,
       "justify_content": null,
       "justify_items": null,
       "left": null,
       "margin": null,
       "max_height": null,
       "max_width": null,
       "min_height": null,
       "min_width": null,
       "object_fit": null,
       "object_position": null,
       "order": null,
       "overflow": null,
       "overflow_x": null,
       "overflow_y": null,
       "padding": null,
       "right": null,
       "top": null,
       "visibility": null,
       "width": null
      }
     },
     "75bb82f19f844789aca1a3f7344d2a75": {
      "model_module": "@jupyter-widgets/base",
      "model_module_version": "1.2.0",
      "model_name": "LayoutModel",
      "state": {
       "_model_module": "@jupyter-widgets/base",
       "_model_module_version": "1.2.0",
       "_model_name": "LayoutModel",
       "_view_count": null,
       "_view_module": "@jupyter-widgets/base",
       "_view_module_version": "1.2.0",
       "_view_name": "LayoutView",
       "align_content": null,
       "align_items": null,
       "align_self": null,
       "border": null,
       "bottom": null,
       "display": null,
       "flex": null,
       "flex_flow": null,
       "grid_area": null,
       "grid_auto_columns": null,
       "grid_auto_flow": null,
       "grid_auto_rows": null,
       "grid_column": null,
       "grid_gap": null,
       "grid_row": null,
       "grid_template_areas": null,
       "grid_template_columns": null,
       "grid_template_rows": null,
       "height": null,
       "justify_content": null,
       "justify_items": null,
       "left": null,
       "margin": null,
       "max_height": null,
       "max_width": null,
       "min_height": null,
       "min_width": null,
       "object_fit": null,
       "object_position": null,
       "order": null,
       "overflow": null,
       "overflow_x": null,
       "overflow_y": null,
       "padding": null,
       "right": null,
       "top": null,
       "visibility": null,
       "width": null
      }
     },
     "79824fc1dc0e415ebc93cadffefe252a": {
      "model_module": "@jupyter-widgets/controls",
      "model_module_version": "1.5.0",
      "model_name": "HTMLModel",
      "state": {
       "_dom_classes": [],
       "_model_module": "@jupyter-widgets/controls",
       "_model_module_version": "1.5.0",
       "_model_name": "HTMLModel",
       "_view_count": null,
       "_view_module": "@jupyter-widgets/controls",
       "_view_module_version": "1.5.0",
       "_view_name": "HTMLView",
       "description": "",
       "description_tooltip": null,
       "layout": "IPY_MODEL_4ce0d469fea74b438c5b1300c97043c1",
       "placeholder": "​",
       "style": "IPY_MODEL_dcffd1a0e46d44d9a907254aef17ac2e",
       "value": " 3/3 [03:58&lt;00:00, 79.29s/it]"
      }
     },
     "79c569d9c32e43e4a73974c52e9d64f2": {
      "model_module": "@jupyter-widgets/controls",
      "model_module_version": "1.5.0",
      "model_name": "HTMLModel",
      "state": {
       "_dom_classes": [],
       "_model_module": "@jupyter-widgets/controls",
       "_model_module_version": "1.5.0",
       "_model_name": "HTMLModel",
       "_view_count": null,
       "_view_module": "@jupyter-widgets/controls",
       "_view_module_version": "1.5.0",
       "_view_name": "HTMLView",
       "description": "",
       "description_tooltip": null,
       "layout": "IPY_MODEL_02ee3f5da63945d9a14e9491348c0723",
       "placeholder": "​",
       "style": "IPY_MODEL_b5bb3e1780b7435d8646bd09e6c83705",
       "value": "Downloading (…)lve/main/config.json: 100%"
      }
     },
     "7bbdf5940e9a49a9a1f8afe6bf35e1a9": {
      "model_module": "@jupyter-widgets/controls",
      "model_module_version": "1.5.0",
      "model_name": "DescriptionStyleModel",
      "state": {
       "_model_module": "@jupyter-widgets/controls",
       "_model_module_version": "1.5.0",
       "_model_name": "DescriptionStyleModel",
       "_view_count": null,
       "_view_module": "@jupyter-widgets/base",
       "_view_module_version": "1.2.0",
       "_view_name": "StyleView",
       "description_width": ""
      }
     },
     "7e18017d52cc4821aef2ec75fac377ad": {
      "model_module": "@jupyter-widgets/controls",
      "model_module_version": "1.5.0",
      "model_name": "HTMLModel",
      "state": {
       "_dom_classes": [],
       "_model_module": "@jupyter-widgets/controls",
       "_model_module_version": "1.5.0",
       "_model_name": "HTMLModel",
       "_view_count": null,
       "_view_module": "@jupyter-widgets/controls",
       "_view_module_version": "1.5.0",
       "_view_name": "HTMLView",
       "description": "",
       "description_tooltip": null,
       "layout": "IPY_MODEL_75bb82f19f844789aca1a3f7344d2a75",
       "placeholder": "​",
       "style": "IPY_MODEL_30a6ba12f1d24e1a9d9d80629595dc51",
       "value": "Downloading (…)/main/tokenizer.json: 100%"
      }
     },
     "85a063ef628d4a85b52f85cb7a5caae1": {
      "model_module": "@jupyter-widgets/base",
      "model_module_version": "1.2.0",
      "model_name": "LayoutModel",
      "state": {
       "_model_module": "@jupyter-widgets/base",
       "_model_module_version": "1.2.0",
       "_model_name": "LayoutModel",
       "_view_count": null,
       "_view_module": "@jupyter-widgets/base",
       "_view_module_version": "1.2.0",
       "_view_name": "LayoutView",
       "align_content": null,
       "align_items": null,
       "align_self": null,
       "border": null,
       "bottom": null,
       "display": null,
       "flex": null,
       "flex_flow": null,
       "grid_area": null,
       "grid_auto_columns": null,
       "grid_auto_flow": null,
       "grid_auto_rows": null,
       "grid_column": null,
       "grid_gap": null,
       "grid_row": null,
       "grid_template_areas": null,
       "grid_template_columns": null,
       "grid_template_rows": null,
       "height": null,
       "justify_content": null,
       "justify_items": null,
       "left": null,
       "margin": null,
       "max_height": null,
       "max_width": null,
       "min_height": null,
       "min_width": null,
       "object_fit": null,
       "object_position": null,
       "order": null,
       "overflow": null,
       "overflow_x": null,
       "overflow_y": null,
       "padding": null,
       "right": null,
       "top": null,
       "visibility": null,
       "width": null
      }
     },
     "86ed04e621514c3eaa6ff7d700e0223b": {
      "model_module": "@jupyter-widgets/base",
      "model_module_version": "1.2.0",
      "model_name": "LayoutModel",
      "state": {
       "_model_module": "@jupyter-widgets/base",
       "_model_module_version": "1.2.0",
       "_model_name": "LayoutModel",
       "_view_count": null,
       "_view_module": "@jupyter-widgets/base",
       "_view_module_version": "1.2.0",
       "_view_name": "LayoutView",
       "align_content": null,
       "align_items": null,
       "align_self": null,
       "border": null,
       "bottom": null,
       "display": null,
       "flex": null,
       "flex_flow": null,
       "grid_area": null,
       "grid_auto_columns": null,
       "grid_auto_flow": null,
       "grid_auto_rows": null,
       "grid_column": null,
       "grid_gap": null,
       "grid_row": null,
       "grid_template_areas": null,
       "grid_template_columns": null,
       "grid_template_rows": null,
       "height": null,
       "justify_content": null,
       "justify_items": null,
       "left": null,
       "margin": null,
       "max_height": null,
       "max_width": null,
       "min_height": null,
       "min_width": null,
       "object_fit": null,
       "object_position": null,
       "order": null,
       "overflow": null,
       "overflow_x": null,
       "overflow_y": null,
       "padding": null,
       "right": null,
       "top": null,
       "visibility": null,
       "width": null
      }
     },
     "87073d2de49f4a79aedb320bccfa3624": {
      "model_module": "@jupyter-widgets/controls",
      "model_module_version": "1.5.0",
      "model_name": "ProgressStyleModel",
      "state": {
       "_model_module": "@jupyter-widgets/controls",
       "_model_module_version": "1.5.0",
       "_model_name": "ProgressStyleModel",
       "_view_count": null,
       "_view_module": "@jupyter-widgets/base",
       "_view_module_version": "1.2.0",
       "_view_name": "StyleView",
       "bar_color": null,
       "description_width": ""
      }
     },
     "900d2c614351496695f5acef01e993ee": {
      "model_module": "@jupyter-widgets/controls",
      "model_module_version": "1.5.0",
      "model_name": "FloatProgressModel",
      "state": {
       "_dom_classes": [],
       "_model_module": "@jupyter-widgets/controls",
       "_model_module_version": "1.5.0",
       "_model_name": "FloatProgressModel",
       "_view_count": null,
       "_view_module": "@jupyter-widgets/controls",
       "_view_module_version": "1.5.0",
       "_view_name": "ProgressView",
       "bar_style": "success",
       "description": "",
       "description_tooltip": null,
       "layout": "IPY_MODEL_9d1f191190704c4e89e3e328c78f2f8c",
       "max": 615.0,
       "min": 0.0,
       "orientation": "horizontal",
       "style": "IPY_MODEL_87073d2de49f4a79aedb320bccfa3624",
       "value": 615.0
      }
     },
     "9ca764117bf84d7898887728b68786ca": {
      "model_module": "@jupyter-widgets/controls",
      "model_module_version": "1.5.0",
      "model_name": "HTMLModel",
      "state": {
       "_dom_classes": [],
       "_model_module": "@jupyter-widgets/controls",
       "_model_module_version": "1.5.0",
       "_model_name": "HTMLModel",
       "_view_count": null,
       "_view_module": "@jupyter-widgets/controls",
       "_view_module_version": "1.5.0",
       "_view_name": "HTMLView",
       "description": "",
       "description_tooltip": null,
       "layout": "IPY_MODEL_2c42467dd85b4363be2ca1dbf9c40ac0",
       "placeholder": "​",
       "style": "IPY_MODEL_bb672aebd5d74dc583afd2c4e72ce6da",
       "value": " 5.07M/5.07M [00:00&lt;00:00, 19.1MB/s]"
      }
     },
     "9d1f191190704c4e89e3e328c78f2f8c": {
      "model_module": "@jupyter-widgets/base",
      "model_module_version": "1.2.0",
      "model_name": "LayoutModel",
      "state": {
       "_model_module": "@jupyter-widgets/base",
       "_model_module_version": "1.2.0",
       "_model_name": "LayoutModel",
       "_view_count": null,
       "_view_module": "@jupyter-widgets/base",
       "_view_module_version": "1.2.0",
       "_view_name": "LayoutView",
       "align_content": null,
       "align_items": null,
       "align_self": null,
       "border": null,
       "bottom": null,
       "display": null,
       "flex": null,
       "flex_flow": null,
       "grid_area": null,
       "grid_auto_columns": null,
       "grid_auto_flow": null,
       "grid_auto_rows": null,
       "grid_column": null,
       "grid_gap": null,
       "grid_row": null,
       "grid_template_areas": null,
       "grid_template_columns": null,
       "grid_template_rows": null,
       "height": null,
       "justify_content": null,
       "justify_items": null,
       "left": null,
       "margin": null,
       "max_height": null,
       "max_width": null,
       "min_height": null,
       "min_width": null,
       "object_fit": null,
       "object_position": null,
       "order": null,
       "overflow": null,
       "overflow_x": null,
       "overflow_y": null,
       "padding": null,
       "right": null,
       "top": null,
       "visibility": null,
       "width": null
      }
     },
     "a177808fa26749d49a21bf63224a0331": {
      "model_module": "@jupyter-widgets/controls",
      "model_module_version": "1.5.0",
      "model_name": "DescriptionStyleModel",
      "state": {
       "_model_module": "@jupyter-widgets/controls",
       "_model_module_version": "1.5.0",
       "_model_name": "DescriptionStyleModel",
       "_view_count": null,
       "_view_module": "@jupyter-widgets/base",
       "_view_module_version": "1.2.0",
       "_view_name": "StyleView",
       "description_width": ""
      }
     },
     "a7984efdf5b24a8dac0d85004209c794": {
      "model_module": "@jupyter-widgets/controls",
      "model_module_version": "1.5.0",
      "model_name": "HTMLModel",
      "state": {
       "_dom_classes": [],
       "_model_module": "@jupyter-widgets/controls",
       "_model_module_version": "1.5.0",
       "_model_name": "HTMLModel",
       "_view_count": null,
       "_view_module": "@jupyter-widgets/controls",
       "_view_module_version": "1.5.0",
       "_view_name": "HTMLView",
       "description": "",
       "description_tooltip": null,
       "layout": "IPY_MODEL_86ed04e621514c3eaa6ff7d700e0223b",
       "placeholder": "​",
       "style": "IPY_MODEL_a177808fa26749d49a21bf63224a0331",
       "value": "Downloading pytorch_model.bin: 100%"
      }
     },
     "a88f80117ef2461c8b4f2fbc08b09665": {
      "model_module": "@jupyter-widgets/controls",
      "model_module_version": "1.5.0",
      "model_name": "HTMLModel",
      "state": {
       "_dom_classes": [],
       "_model_module": "@jupyter-widgets/controls",
       "_model_module_version": "1.5.0",
       "_model_name": "HTMLModel",
       "_view_count": null,
       "_view_module": "@jupyter-widgets/controls",
       "_view_module_version": "1.5.0",
       "_view_name": "HTMLView",
       "description": "",
       "description_tooltip": null,
       "layout": "IPY_MODEL_def92688d8614daba61456a27d569a6d",
       "placeholder": "​",
       "style": "IPY_MODEL_1668c8ee377947c1ac9047be84369dd6",
       "value": " 1.12G/1.12G [00:04&lt;00:00, 292MB/s]"
      }
     },
     "ab81f4c78aef42ddb46970ba16248021": {
      "model_module": "@jupyter-widgets/base",
      "model_module_version": "1.2.0",
      "model_name": "LayoutModel",
      "state": {
       "_model_module": "@jupyter-widgets/base",
       "_model_module_version": "1.2.0",
       "_model_name": "LayoutModel",
       "_view_count": null,
       "_view_module": "@jupyter-widgets/base",
       "_view_module_version": "1.2.0",
       "_view_name": "LayoutView",
       "align_content": null,
       "align_items": null,
       "align_self": null,
       "border": null,
       "bottom": null,
       "display": null,
       "flex": null,
       "flex_flow": null,
       "grid_area": null,
       "grid_auto_columns": null,
       "grid_auto_flow": null,
       "grid_auto_rows": null,
       "grid_column": null,
       "grid_gap": null,
       "grid_row": null,
       "grid_template_areas": null,
       "grid_template_columns": null,
       "grid_template_rows": null,
       "height": null,
       "justify_content": null,
       "justify_items": null,
       "left": null,
       "margin": null,
       "max_height": null,
       "max_width": null,
       "min_height": null,
       "min_width": null,
       "object_fit": null,
       "object_position": null,
       "order": null,
       "overflow": null,
       "overflow_x": null,
       "overflow_y": null,
       "padding": null,
       "right": null,
       "top": null,
       "visibility": null,
       "width": null
      }
     },
     "b26535efb35943459bda34ce6ddd343f": {
      "model_module": "@jupyter-widgets/controls",
      "model_module_version": "1.5.0",
      "model_name": "FloatProgressModel",
      "state": {
       "_dom_classes": [],
       "_model_module": "@jupyter-widgets/controls",
       "_model_module_version": "1.5.0",
       "_model_name": "FloatProgressModel",
       "_view_count": null,
       "_view_module": "@jupyter-widgets/controls",
       "_view_module_version": "1.5.0",
       "_view_name": "ProgressView",
       "bar_style": "success",
       "description": "",
       "description_tooltip": null,
       "layout": "IPY_MODEL_459418ab8c904fff923633fe8d2b822d",
       "max": 9096718.0,
       "min": 0.0,
       "orientation": "horizontal",
       "style": "IPY_MODEL_1c689118bbfe429b8e5cd509c5a3ea79",
       "value": 9096718.0
      }
     },
     "b5bb3e1780b7435d8646bd09e6c83705": {
      "model_module": "@jupyter-widgets/controls",
      "model_module_version": "1.5.0",
      "model_name": "DescriptionStyleModel",
      "state": {
       "_model_module": "@jupyter-widgets/controls",
       "_model_module_version": "1.5.0",
       "_model_name": "DescriptionStyleModel",
       "_view_count": null,
       "_view_module": "@jupyter-widgets/base",
       "_view_module_version": "1.2.0",
       "_view_name": "StyleView",
       "description_width": ""
      }
     },
     "b865c3706a304ea580dba6024f9651b9": {
      "model_module": "@jupyter-widgets/controls",
      "model_module_version": "1.5.0",
      "model_name": "ProgressStyleModel",
      "state": {
       "_model_module": "@jupyter-widgets/controls",
       "_model_module_version": "1.5.0",
       "_model_name": "ProgressStyleModel",
       "_view_count": null,
       "_view_module": "@jupyter-widgets/base",
       "_view_module_version": "1.2.0",
       "_view_name": "StyleView",
       "bar_color": null,
       "description_width": ""
      }
     },
     "bb672aebd5d74dc583afd2c4e72ce6da": {
      "model_module": "@jupyter-widgets/controls",
      "model_module_version": "1.5.0",
      "model_name": "DescriptionStyleModel",
      "state": {
       "_model_module": "@jupyter-widgets/controls",
       "_model_module_version": "1.5.0",
       "_model_name": "DescriptionStyleModel",
       "_view_count": null,
       "_view_module": "@jupyter-widgets/base",
       "_view_module_version": "1.2.0",
       "_view_name": "StyleView",
       "description_width": ""
      }
     },
     "beec406c808143d89baf5d454096c040": {
      "model_module": "@jupyter-widgets/base",
      "model_module_version": "1.2.0",
      "model_name": "LayoutModel",
      "state": {
       "_model_module": "@jupyter-widgets/base",
       "_model_module_version": "1.2.0",
       "_model_name": "LayoutModel",
       "_view_count": null,
       "_view_module": "@jupyter-widgets/base",
       "_view_module_version": "1.2.0",
       "_view_name": "LayoutView",
       "align_content": null,
       "align_items": null,
       "align_self": null,
       "border": null,
       "bottom": null,
       "display": null,
       "flex": null,
       "flex_flow": null,
       "grid_area": null,
       "grid_auto_columns": null,
       "grid_auto_flow": null,
       "grid_auto_rows": null,
       "grid_column": null,
       "grid_gap": null,
       "grid_row": null,
       "grid_template_areas": null,
       "grid_template_columns": null,
       "grid_template_rows": null,
       "height": null,
       "justify_content": null,
       "justify_items": null,
       "left": null,
       "margin": null,
       "max_height": null,
       "max_width": null,
       "min_height": null,
       "min_width": null,
       "object_fit": null,
       "object_position": null,
       "order": null,
       "overflow": null,
       "overflow_x": null,
       "overflow_y": null,
       "padding": null,
       "right": null,
       "top": null,
       "visibility": null,
       "width": null
      }
     },
     "c519bf44321844d88da9fa7daac1be1a": {
      "model_module": "@jupyter-widgets/controls",
      "model_module_version": "1.5.0",
      "model_name": "DescriptionStyleModel",
      "state": {
       "_model_module": "@jupyter-widgets/controls",
       "_model_module_version": "1.5.0",
       "_model_name": "DescriptionStyleModel",
       "_view_count": null,
       "_view_module": "@jupyter-widgets/base",
       "_view_module_version": "1.2.0",
       "_view_name": "StyleView",
       "description_width": ""
      }
     },
     "c5c4071d60524c9399d229f82c17d2a1": {
      "model_module": "@jupyter-widgets/base",
      "model_module_version": "1.2.0",
      "model_name": "LayoutModel",
      "state": {
       "_model_module": "@jupyter-widgets/base",
       "_model_module_version": "1.2.0",
       "_model_name": "LayoutModel",
       "_view_count": null,
       "_view_module": "@jupyter-widgets/base",
       "_view_module_version": "1.2.0",
       "_view_name": "LayoutView",
       "align_content": null,
       "align_items": null,
       "align_self": null,
       "border": null,
       "bottom": null,
       "display": null,
       "flex": null,
       "flex_flow": null,
       "grid_area": null,
       "grid_auto_columns": null,
       "grid_auto_flow": null,
       "grid_auto_rows": null,
       "grid_column": null,
       "grid_gap": null,
       "grid_row": null,
       "grid_template_areas": null,
       "grid_template_columns": null,
       "grid_template_rows": null,
       "height": null,
       "justify_content": null,
       "justify_items": null,
       "left": null,
       "margin": null,
       "max_height": null,
       "max_width": null,
       "min_height": null,
       "min_width": null,
       "object_fit": null,
       "object_position": null,
       "order": null,
       "overflow": null,
       "overflow_x": null,
       "overflow_y": null,
       "padding": null,
       "right": null,
       "top": null,
       "visibility": null,
       "width": null
      }
     },
     "c8be61cc644043c18d81fc80a40c2547": {
      "model_module": "@jupyter-widgets/base",
      "model_module_version": "1.2.0",
      "model_name": "LayoutModel",
      "state": {
       "_model_module": "@jupyter-widgets/base",
       "_model_module_version": "1.2.0",
       "_model_name": "LayoutModel",
       "_view_count": null,
       "_view_module": "@jupyter-widgets/base",
       "_view_module_version": "1.2.0",
       "_view_name": "LayoutView",
       "align_content": null,
       "align_items": null,
       "align_self": null,
       "border": null,
       "bottom": null,
       "display": null,
       "flex": null,
       "flex_flow": null,
       "grid_area": null,
       "grid_auto_columns": null,
       "grid_auto_flow": null,
       "grid_auto_rows": null,
       "grid_column": null,
       "grid_gap": null,
       "grid_row": null,
       "grid_template_areas": null,
       "grid_template_columns": null,
       "grid_template_rows": null,
       "height": null,
       "justify_content": null,
       "justify_items": null,
       "left": null,
       "margin": null,
       "max_height": null,
       "max_width": null,
       "min_height": null,
       "min_width": null,
       "object_fit": null,
       "object_position": null,
       "order": null,
       "overflow": null,
       "overflow_x": null,
       "overflow_y": null,
       "padding": null,
       "right": null,
       "top": null,
       "visibility": null,
       "width": null
      }
     },
     "cce714e8dec44ebd9145a49dacf79c64": {
      "model_module": "@jupyter-widgets/base",
      "model_module_version": "1.2.0",
      "model_name": "LayoutModel",
      "state": {
       "_model_module": "@jupyter-widgets/base",
       "_model_module_version": "1.2.0",
       "_model_name": "LayoutModel",
       "_view_count": null,
       "_view_module": "@jupyter-widgets/base",
       "_view_module_version": "1.2.0",
       "_view_name": "LayoutView",
       "align_content": null,
       "align_items": null,
       "align_self": null,
       "border": null,
       "bottom": null,
       "display": null,
       "flex": null,
       "flex_flow": null,
       "grid_area": null,
       "grid_auto_columns": null,
       "grid_auto_flow": null,
       "grid_auto_rows": null,
       "grid_column": null,
       "grid_gap": null,
       "grid_row": null,
       "grid_template_areas": null,
       "grid_template_columns": null,
       "grid_template_rows": null,
       "height": null,
       "justify_content": null,
       "justify_items": null,
       "left": null,
       "margin": null,
       "max_height": null,
       "max_width": null,
       "min_height": null,
       "min_width": null,
       "object_fit": null,
       "object_position": null,
       "order": null,
       "overflow": null,
       "overflow_x": null,
       "overflow_y": null,
       "padding": null,
       "right": null,
       "top": null,
       "visibility": null,
       "width": null
      }
     },
     "d3897b0792ea4368b86c0036dd90f835": {
      "model_module": "@jupyter-widgets/controls",
      "model_module_version": "1.5.0",
      "model_name": "HTMLModel",
      "state": {
       "_dom_classes": [],
       "_model_module": "@jupyter-widgets/controls",
       "_model_module_version": "1.5.0",
       "_model_name": "HTMLModel",
       "_view_count": null,
       "_view_module": "@jupyter-widgets/controls",
       "_view_module_version": "1.5.0",
       "_view_name": "HTMLView",
       "description": "",
       "description_tooltip": null,
       "layout": "IPY_MODEL_beec406c808143d89baf5d454096c040",
       "placeholder": "​",
       "style": "IPY_MODEL_02490f8b075a4c7db581e0bfe5716725",
       "value": " 9.10M/9.10M [00:00&lt;00:00, 19.5MB/s]"
      }
     },
     "d4cc1812c49547a49c974443a06d8bfd": {
      "model_module": "@jupyter-widgets/controls",
      "model_module_version": "1.5.0",
      "model_name": "HBoxModel",
      "state": {
       "_dom_classes": [],
       "_model_module": "@jupyter-widgets/controls",
       "_model_module_version": "1.5.0",
       "_model_name": "HBoxModel",
       "_view_count": null,
       "_view_module": "@jupyter-widgets/controls",
       "_view_module_version": "1.5.0",
       "_view_name": "HBoxView",
       "box_style": "",
       "children": [
        "IPY_MODEL_7e18017d52cc4821aef2ec75fac377ad",
        "IPY_MODEL_b26535efb35943459bda34ce6ddd343f",
        "IPY_MODEL_d3897b0792ea4368b86c0036dd90f835"
       ],
       "layout": "IPY_MODEL_2762075673f84c3dbdc1102deed136a2"
      }
     },
     "dcffd1a0e46d44d9a907254aef17ac2e": {
      "model_module": "@jupyter-widgets/controls",
      "model_module_version": "1.5.0",
      "model_name": "DescriptionStyleModel",
      "state": {
       "_model_module": "@jupyter-widgets/controls",
       "_model_module_version": "1.5.0",
       "_model_name": "DescriptionStyleModel",
       "_view_count": null,
       "_view_module": "@jupyter-widgets/base",
       "_view_module_version": "1.2.0",
       "_view_name": "StyleView",
       "description_width": ""
      }
     },
     "def92688d8614daba61456a27d569a6d": {
      "model_module": "@jupyter-widgets/base",
      "model_module_version": "1.2.0",
      "model_name": "LayoutModel",
      "state": {
       "_model_module": "@jupyter-widgets/base",
       "_model_module_version": "1.2.0",
       "_model_name": "LayoutModel",
       "_view_count": null,
       "_view_module": "@jupyter-widgets/base",
       "_view_module_version": "1.2.0",
       "_view_name": "LayoutView",
       "align_content": null,
       "align_items": null,
       "align_self": null,
       "border": null,
       "bottom": null,
       "display": null,
       "flex": null,
       "flex_flow": null,
       "grid_area": null,
       "grid_auto_columns": null,
       "grid_auto_flow": null,
       "grid_auto_rows": null,
       "grid_column": null,
       "grid_gap": null,
       "grid_row": null,
       "grid_template_areas": null,
       "grid_template_columns": null,
       "grid_template_rows": null,
       "height": null,
       "justify_content": null,
       "justify_items": null,
       "left": null,
       "margin": null,
       "max_height": null,
       "max_width": null,
       "min_height": null,
       "min_width": null,
       "object_fit": null,
       "object_position": null,
       "order": null,
       "overflow": null,
       "overflow_x": null,
       "overflow_y": null,
       "padding": null,
       "right": null,
       "top": null,
       "visibility": null,
       "width": null
      }
     },
     "f0a0b4ee00964e98bc54fc828709eb50": {
      "model_module": "@jupyter-widgets/controls",
      "model_module_version": "1.5.0",
      "model_name": "HBoxModel",
      "state": {
       "_dom_classes": [],
       "_model_module": "@jupyter-widgets/controls",
       "_model_module_version": "1.5.0",
       "_model_name": "HBoxModel",
       "_view_count": null,
       "_view_module": "@jupyter-widgets/controls",
       "_view_module_version": "1.5.0",
       "_view_name": "HBoxView",
       "box_style": "",
       "children": [
        "IPY_MODEL_024f2d961a534a2c8160d814d37d7651",
        "IPY_MODEL_504a17ced3fd4b44a8a1dfbdd5ae86af",
        "IPY_MODEL_79824fc1dc0e415ebc93cadffefe252a"
       ],
       "layout": "IPY_MODEL_6ccf0e4989dc46cfa281759c0eff220a"
      }
     },
     "f3e2d09e48374569abb75fb2bbf74528": {
      "model_module": "@jupyter-widgets/base",
      "model_module_version": "1.2.0",
      "model_name": "LayoutModel",
      "state": {
       "_model_module": "@jupyter-widgets/base",
       "_model_module_version": "1.2.0",
       "_model_name": "LayoutModel",
       "_view_count": null,
       "_view_module": "@jupyter-widgets/base",
       "_view_module_version": "1.2.0",
       "_view_name": "LayoutView",
       "align_content": null,
       "align_items": null,
       "align_self": null,
       "border": null,
       "bottom": null,
       "display": null,
       "flex": null,
       "flex_flow": null,
       "grid_area": null,
       "grid_auto_columns": null,
       "grid_auto_flow": null,
       "grid_auto_rows": null,
       "grid_column": null,
       "grid_gap": null,
       "grid_row": null,
       "grid_template_areas": null,
       "grid_template_columns": null,
       "grid_template_rows": null,
       "height": null,
       "justify_content": null,
       "justify_items": null,
       "left": null,
       "margin": null,
       "max_height": null,
       "max_width": null,
       "min_height": null,
       "min_width": null,
       "object_fit": null,
       "object_position": null,
       "order": null,
       "overflow": null,
       "overflow_x": null,
       "overflow_y": null,
       "padding": null,
       "right": null,
       "top": null,
       "visibility": null,
       "width": null
      }
     },
     "f49b6bb1dd2344728896ff01f1889d15": {
      "model_module": "@jupyter-widgets/controls",
      "model_module_version": "1.5.0",
      "model_name": "ProgressStyleModel",
      "state": {
       "_model_module": "@jupyter-widgets/controls",
       "_model_module_version": "1.5.0",
       "_model_name": "ProgressStyleModel",
       "_view_count": null,
       "_view_module": "@jupyter-widgets/base",
       "_view_module_version": "1.2.0",
       "_view_name": "StyleView",
       "bar_color": null,
       "description_width": ""
      }
     }
    },
    "version_major": 2,
    "version_minor": 0
   }
  }
 },
 "nbformat": 4,
 "nbformat_minor": 5
}
